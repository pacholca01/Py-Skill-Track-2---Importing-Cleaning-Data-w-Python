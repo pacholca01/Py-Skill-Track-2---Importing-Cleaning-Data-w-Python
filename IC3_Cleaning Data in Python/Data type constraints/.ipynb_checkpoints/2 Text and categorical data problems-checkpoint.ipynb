{
 "cells": [
  {
   "cell_type": "markdown",
   "id": "289d3151",
   "metadata": {},
   "source": [
    "### 2. Text and categorical data problems"
   ]
  },
  {
   "cell_type": "markdown",
   "id": "6ad035de",
   "metadata": {},
   "source": [
    "##### Import .csv's"
   ]
  },
  {
   "cell_type": "code",
   "execution_count": 60,
   "id": "1cb575ef",
   "metadata": {},
   "outputs": [],
   "source": [
    "import pandas as pd\n",
    "filename = 'airlines_final.csv'\n",
    "airlines = pd.read_csv(filename, index_col=0)\n",
    "# print(airlines.head())\n",
    "\n",
    "filename = 'categories.csv'\n",
    "categories = pd.read_csv(filename, index_col=0)"
   ]
  },
  {
   "cell_type": "markdown",
   "id": "9415be2f",
   "metadata": {},
   "source": [
    "##### Finding consistency \n",
    "\n",
    "In this exercise, you will use both of these DataFrames to find survey answers with inconsistent values, and drop them, effectively performing an outer and inner join on both these DataFrames"
   ]
  },
  {
   "cell_type": "code",
   "execution_count": 61,
   "id": "764936e7",
   "metadata": {},
   "outputs": [
    {
     "name": "stdout",
     "output_type": "stream",
     "text": [
      "      cleanliness           safety          satisfaction\n",
      "0           Clean          Neutral        Very satisfied\n",
      "1         Average        Very safe               Neutral\n",
      "2  Somewhat clean    Somewhat safe    Somewhat satisfied\n",
      "3  Somewhat dirty      Very unsafe  Somewhat unsatisfied\n",
      "4           Dirty  Somewhat unsafe      Very unsatisfied\n",
      "\n",
      "Cleanliness:  ['Clean' 'Average' 'Somewhat clean' 'Somewhat dirty' 'Dirty'] \n",
      "\n",
      "Safety:  ['Neutral' 'Very safe' 'Somewhat safe' 'Very unsafe' 'Somewhat unsafe'] \n",
      "\n",
      "Satisfaction:  ['Very satisfied' 'Neutral' 'Somewhat satsified' 'Somewhat unsatisfied'\n",
      " 'Very unsatisfied'] \n",
      "\n"
     ]
    }
   ],
   "source": [
    "# Print categories DataFrame\n",
    "print(categories)\n",
    "print()\n",
    "\n",
    "# Print unique values of survey columns in airlines\n",
    "print('Cleanliness: ', airlines['cleanliness'].unique(), \"\\n\")\n",
    "print('Safety: ', airlines['safety'].unique(), \"\\n\")\n",
    "print('Satisfaction: ', airlines['satisfaction'].unique(), \"\\n\")"
   ]
  },
  {
   "cell_type": "code",
   "execution_count": 83,
   "id": "341efc0b",
   "metadata": {},
   "outputs": [
    {
     "name": "stdout",
     "output_type": "stream",
     "text": [
      "     id       day      airline        destination    dest_region dest_size  \\\n",
      "0  1351   Tuesday  UNITED INTL             KANSAI           Asia       Hub   \n",
      "1   373    Friday       ALASKA  SAN JOSE DEL CABO  Canada/Mexico     Small   \n",
      "2  2820  Thursday        DELTA        LOS ANGELES        West US       Hub   \n",
      "\n",
      "  boarding_area   dept_time  wait_min cleanliness         safety  \\\n",
      "0  Gates 91-102  2018-12-31     115.0       Clean        Neutral   \n",
      "1   Gates 50-59  2018-12-31     135.0       Clean      Very safe   \n",
      "2   Gates 40-48  2018-12-31      70.0     Average  Somewhat safe   \n",
      "\n",
      "     satisfaction  \n",
      "0  Very satisfied  \n",
      "1  Very satisfied  \n",
      "2         Neutral  \n"
     ]
    }
   ],
   "source": [
    "print(airlines.head(3))"
   ]
  },
  {
   "cell_type": "markdown",
   "id": "0755fec7",
   "metadata": {},
   "source": [
    "##### Finding consistency (continued)\n",
    "\n",
    "Datacamp only provides the post exercise version of this file. In order to perform the exercises within the chapter, we will need to restore the sample file to pre-exercise condition. See the data reassignment below. \n",
    "\n",
    "print(airlines[airlines['cleanliness']=='Unacceptable'])\n",
    "\n",
    "       id        day           airline  destination  dest_region dest_size boarding_area   dept_time  wait_min    \n",
    "4    2992  Wednesday          AMERICAN        MIAMI      East US       Hub   Gates 50-59  2018-12-31     559.0  \n",
    "18   2913     Friday  TURKISH AIRLINES     ISTANBUL  Middle East       Hub  Gates 91-102  2018-12-31     225.0  \n",
    "100  2321  Wednesday         SOUTHWEST  LOS ANGELES      West US       Hub   Gates 20-39  2018-12-31     130.0 \n",
    "\n",
    "         cleanliness         safety        satisfaction\n",
    "        Unacceptable      Very safe  Somewhat satisfied\n",
    "        Unacceptable      Very safe  Somewhat satisfied\n",
    "        Unacceptable  Somewhat safe  Somewhat satisfied"
   ]
  },
  {
   "cell_type": "code",
   "execution_count": 63,
   "id": "57e33246",
   "metadata": {},
   "outputs": [
    {
     "name": "stdout",
     "output_type": "stream",
     "text": [
      "Empty DataFrame\n",
      "Columns: [id, day, airline, destination, dest_region, dest_size, boarding_area, dept_time, wait_min, cleanliness, safety, satisfaction]\n",
      "Index: []\n"
     ]
    }
   ],
   "source": [
    "print(airlines[airlines['cleanliness']=='Unacceptable'])"
   ]
  },
  {
   "cell_type": "code",
   "execution_count": 73,
   "id": "cbfa5818",
   "metadata": {},
   "outputs": [
    {
     "name": "stdout",
     "output_type": "stream",
     "text": [
      "id\n",
      "2992    Somewhat clean\n",
      "2913             Clean\n",
      "2321    Somewhat clean\n",
      "Name: cleanliness, dtype: object\n"
     ]
    }
   ],
   "source": [
    "airlines_restored = airlines.set_index('id')\n",
    "print(airlines_restored.loc[[2992, 2913, 2321],'cleanliness'])"
   ]
  },
  {
   "cell_type": "markdown",
   "id": "3b2f30e1",
   "metadata": {},
   "source": [
    "##### Restore file to original condition"
   ]
  },
  {
   "cell_type": "code",
   "execution_count": 78,
   "id": "c4eeeef2",
   "metadata": {},
   "outputs": [
    {
     "name": "stdout",
     "output_type": "stream",
     "text": [
      "id\n",
      "2992    Unacceptable\n",
      "2913    Unacceptable\n",
      "2321    Unacceptable\n",
      "Name: cleanliness, dtype: object\n"
     ]
    }
   ],
   "source": [
    "airlines_restored.loc[[2992, 2913, 2321],'cleanliness'] = 'Unacceptable'\n",
    "print(airlines_restored.loc[[2992, 2913, 2321],'cleanliness'])"
   ]
  },
  {
   "cell_type": "code",
   "execution_count": 111,
   "id": "a1dc8603",
   "metadata": {},
   "outputs": [
    {
     "name": "stdout",
     "output_type": "stream",
     "text": [
      "            day        airline        destination    dest_region dest_size  \\\n",
      "id                                                                           \n",
      "1351    Tuesday    UNITED INTL             KANSAI           Asia       Hub   \n",
      "373      Friday         ALASKA  SAN JOSE DEL CABO  Canada/Mexico     Small   \n",
      "2820   Thursday          DELTA        LOS ANGELES        West US       Hub   \n",
      "1157    Tuesday      SOUTHWEST        LOS ANGELES        West US       Hub   \n",
      "2992  Wednesday       AMERICAN              MIAMI        East US       Hub   \n",
      "...         ...            ...                ...            ...       ...   \n",
      "1475    Tuesday         ALASKA       NEW YORK-JFK        East US       Hub   \n",
      "2222   Thursday      SOUTHWEST            PHOENIX        West US       Hub   \n",
      "2684     Friday         UNITED            ORLANDO        East US       Hub   \n",
      "2549    Tuesday        JETBLUE         LONG BEACH        West US     Small   \n",
      "2162   Saturday  CHINA EASTERN            QINGDAO           Asia     Large   \n",
      "\n",
      "     boarding_area   dept_time  wait_min     cleanliness         safety  \\\n",
      "id                                                                        \n",
      "1351  Gates 91-102  2018-12-31     115.0           Clean        Neutral   \n",
      "373    Gates 50-59  2018-12-31     135.0           Clean      Very safe   \n",
      "2820   Gates 40-48  2018-12-31      70.0         Average  Somewhat safe   \n",
      "1157   Gates 20-39  2018-12-31     190.0           Clean      Very safe   \n",
      "2992   Gates 50-59  2018-12-31     559.0    Unacceptable      Very safe   \n",
      "...            ...         ...       ...             ...            ...   \n",
      "1475   Gates 50-59  2018-12-31     280.0  Somewhat clean        Neutral   \n",
      "2222   Gates 20-39  2018-12-31     165.0           Clean      Very safe   \n",
      "2684   Gates 70-90  2018-12-31      92.0           Clean      Very safe   \n",
      "2549    Gates 1-12  2018-12-31      95.0           Clean  Somewhat safe   \n",
      "2162    Gates 1-12  2018-12-31     220.0           Clean      Very safe   \n",
      "\n",
      "            satisfaction  \n",
      "id                        \n",
      "1351      Very satisfied  \n",
      "373       Very satisfied  \n",
      "2820             Neutral  \n",
      "1157  Somewhat satsified  \n",
      "2992  Somewhat satsified  \n",
      "...                  ...  \n",
      "1475  Somewhat satsified  \n",
      "2222      Very satisfied  \n",
      "2684      Very satisfied  \n",
      "2549      Very satisfied  \n",
      "2162  Somewhat satsified  \n",
      "\n",
      "[2477 rows x 11 columns]\n"
     ]
    }
   ],
   "source": [
    "print(airlines_restored)"
   ]
  },
  {
   "cell_type": "code",
   "execution_count": 91,
   "id": "dbd9fd49",
   "metadata": {},
   "outputs": [
    {
     "name": "stdout",
     "output_type": "stream",
     "text": [
      "            day           airline  destination  dest_region dest_size  \\\n",
      "id                                                                      \n",
      "2992  Wednesday          AMERICAN        MIAMI      East US       Hub   \n",
      "2913     Friday  TURKISH AIRLINES     ISTANBUL  Middle East       Hub   \n",
      "2321  Wednesday         SOUTHWEST  LOS ANGELES      West US       Hub   \n",
      "\n",
      "     boarding_area   dept_time  wait_min   cleanliness         safety  \\\n",
      "id                                                                      \n",
      "2992   Gates 50-59  2018-12-31     559.0  Unacceptable      Very safe   \n",
      "2913  Gates 91-102  2018-12-31     225.0  Unacceptable      Very safe   \n",
      "2321   Gates 20-39  2018-12-31     130.0  Unacceptable  Somewhat safe   \n",
      "\n",
      "            satisfaction  \n",
      "id                        \n",
      "2992  Somewhat satsified  \n",
      "2913  Somewhat satsified  \n",
      "2321  Somewhat satsified  \n"
     ]
    }
   ],
   "source": [
    "# Find the cleanliness category in airlines not in categories\n",
    "cat_clean = set(airlines_restored['cleanliness']).difference(categories['cleanliness'])\n",
    "\n",
    "# Find rows with that category\n",
    "cat_clean_rows = airlines_restored['cleanliness'].isin(cat_clean)\n",
    "\n",
    "# Print rows with inconsistent category\n",
    "print(airlines_restored[cat_clean_rows])"
   ]
  },
  {
   "cell_type": "code",
   "execution_count": 110,
   "id": "d31648a7",
   "metadata": {},
   "outputs": [
    {
     "name": "stdout",
     "output_type": "stream",
     "text": [
      "           day        airline        destination    dest_region dest_size  \\\n",
      "id                                                                          \n",
      "1351   Tuesday    UNITED INTL             KANSAI           Asia       Hub   \n",
      "373     Friday         ALASKA  SAN JOSE DEL CABO  Canada/Mexico     Small   \n",
      "2820  Thursday          DELTA        LOS ANGELES        West US       Hub   \n",
      "1157   Tuesday      SOUTHWEST        LOS ANGELES        West US       Hub   \n",
      "634   Thursday         ALASKA             NEWARK        East US       Hub   \n",
      "...        ...            ...                ...            ...       ...   \n",
      "1475   Tuesday         ALASKA       NEW YORK-JFK        East US       Hub   \n",
      "2222  Thursday      SOUTHWEST            PHOENIX        West US       Hub   \n",
      "2684    Friday         UNITED            ORLANDO        East US       Hub   \n",
      "2549   Tuesday        JETBLUE         LONG BEACH        West US     Small   \n",
      "2162  Saturday  CHINA EASTERN            QINGDAO           Asia     Large   \n",
      "\n",
      "     boarding_area   dept_time  wait_min     cleanliness         safety  \\\n",
      "id                                                                        \n",
      "1351  Gates 91-102  2018-12-31     115.0           Clean        Neutral   \n",
      "373    Gates 50-59  2018-12-31     135.0           Clean      Very safe   \n",
      "2820   Gates 40-48  2018-12-31      70.0         Average  Somewhat safe   \n",
      "1157   Gates 20-39  2018-12-31     190.0           Clean      Very safe   \n",
      "634    Gates 50-59  2018-12-31     140.0  Somewhat clean      Very safe   \n",
      "...            ...         ...       ...             ...            ...   \n",
      "1475   Gates 50-59  2018-12-31     280.0  Somewhat clean        Neutral   \n",
      "2222   Gates 20-39  2018-12-31     165.0           Clean      Very safe   \n",
      "2684   Gates 70-90  2018-12-31      92.0           Clean      Very safe   \n",
      "2549    Gates 1-12  2018-12-31      95.0           Clean  Somewhat safe   \n",
      "2162    Gates 1-12  2018-12-31     220.0           Clean      Very safe   \n",
      "\n",
      "            satisfaction  \n",
      "id                        \n",
      "1351      Very satisfied  \n",
      "373       Very satisfied  \n",
      "2820             Neutral  \n",
      "1157  Somewhat satsified  \n",
      "634       Very satisfied  \n",
      "...                  ...  \n",
      "1475  Somewhat satsified  \n",
      "2222      Very satisfied  \n",
      "2684      Very satisfied  \n",
      "2549      Very satisfied  \n",
      "2162  Somewhat satsified  \n",
      "\n",
      "[2474 rows x 11 columns]\n"
     ]
    }
   ],
   "source": [
    "# Print rows with consistent categories only\n",
    "print(airlines_restored[~cat_clean_rows])"
   ]
  },
  {
   "cell_type": "code",
   "execution_count": null,
   "id": "bc160d1c",
   "metadata": {
    "collapsed": true
   },
   "outputs": [],
   "source": []
  }
 ],
 "metadata": {
  "kernelspec": {
   "display_name": "Python 3 (ipykernel)",
   "language": "python",
   "name": "python3"
  },
  "language_info": {
   "codemirror_mode": {
    "name": "ipython",
    "version": 3
   },
   "file_extension": ".py",
   "mimetype": "text/x-python",
   "name": "python",
   "nbconvert_exporter": "python",
   "pygments_lexer": "ipython3",
   "version": "3.10.4"
  }
 },
 "nbformat": 4,
 "nbformat_minor": 5
}
