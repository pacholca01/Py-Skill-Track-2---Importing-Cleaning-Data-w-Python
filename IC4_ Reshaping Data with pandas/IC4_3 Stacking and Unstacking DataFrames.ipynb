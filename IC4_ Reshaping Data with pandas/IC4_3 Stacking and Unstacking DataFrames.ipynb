{
 "cells": [
  {
   "cell_type": "markdown",
   "id": "7640a98e",
   "metadata": {},
   "source": [
    "#### 3 Stacking and Unstacking DataFrames\n",
    "In this chapter, you’ll level-up your data manipulation skills using multi-level indexing. You'll learn how to reshape DataFrames by rearranging levels of the row indexes to the column axis, or vice versa. You'll also gain the skills you need to handle missing data generated in the stacking and unstacking processes.\n",
    "\n",
    "##### Stack the calls!\n",
    "New week, new project! One of your clients, a telecommunication company, wants to know why its customers are leaving. You will perform an analysis to figure it out. First, you explored the dataset churn and realized some information is missing. The dataset contains data about the total number of calls and the minutes spent on the phone by different customers. However, the state and city they live in are not listed.\n",
    "\n",
    "You predefined an array with that data. You'd like to add it as an index in your DataFrame.\n",
    "\n",
    "The DataFrame churn is available for you. It contains data about area code, total_day_calls and total_day_minutes. Make sure to examine it in the console!\n",
    "\n"
   ]
  },
  {
   "cell_type": "code",
   "execution_count": 2,
   "id": "85cc267b",
   "metadata": {},
   "outputs": [
    {
     "name": "stdout",
     "output_type": "stream",
     "text": [
      "MultiIndex([('California',   'Los Angeles'),\n",
      "            ('California', 'San Francisco'),\n",
      "            (  'New York',      'New York'),\n",
      "            (      'Ohio',     'Cleveland')],\n",
      "           names=['state', 'city'])\n"
     ]
    }
   ],
   "source": [
    "import pandas as pd\n",
    "# Predefined list to use as index\n",
    "new_index = [['California', 'California', 'New York', 'Ohio'], \n",
    "             ['Los Angeles', 'San Francisco', 'New York', 'Cleveland']]\n",
    "\n",
    "# Create a multi-level index using predefined new_index\n",
    "churn_new = pd.MultiIndex.from_arrays(new_index, names=['state', 'city'])\n",
    "\n",
    "# Print churn_new\n",
    "print(churn_new)"
   ]
  },
  {
   "cell_type": "code",
   "execution_count": 3,
   "id": "23f35ddc",
   "metadata": {},
   "outputs": [
    {
     "name": "stdout",
     "output_type": "stream",
     "text": [
      "                          Area code  total_day_calls  total_day_minutes\n",
      "state      city                                                        \n",
      "California Los Angeles          116              204                NaN\n",
      "           San Francisco        408              109              287.0\n",
      "New York   New York             415               84               84.0\n",
      "Ohio       Cleveland            510               67               50.0\n"
     ]
    }
   ],
   "source": [
    "filename = 'churn.csv'\n",
    "churn = pd.read_csv(filename, index_col=0)\n",
    "\n",
    "# Assign the new index to the churn index\n",
    "churn.index = churn_new\n",
    "\n",
    "# Print churn\n",
    "print(churn)"
   ]
  },
  {
   "cell_type": "code",
   "execution_count": 5,
   "id": "f961118a",
   "metadata": {},
   "outputs": [
    {
     "name": "stdout",
     "output_type": "stream",
     "text": [
      "state       city                            \n",
      "California  Los Angeles    Area code            116.0\n",
      "                           total_day_calls      204.0\n",
      "            San Francisco  Area code            408.0\n",
      "                           total_day_calls      109.0\n",
      "                           total_day_minutes    287.0\n",
      "New York    New York       Area code            415.0\n",
      "                           total_day_calls       84.0\n",
      "                           total_day_minutes     84.0\n",
      "Ohio        Cleveland      Area code            510.0\n",
      "                           total_day_calls       67.0\n",
      "                           total_day_minutes     50.0\n",
      "dtype: float64\n"
     ]
    }
   ],
   "source": [
    "# Reshape by stacking churn DataFrame\n",
    "churn_stack = churn.stack()\n",
    "\n",
    "# Print churn_stack\n",
    "print(churn_stack)"
   ]
  },
  {
   "cell_type": "markdown",
   "id": "5ccde487",
   "metadata": {},
   "source": [
    "##### Phone directory index\n",
    "After reshaping the dataset, you sent it to your colleagues and asked them to fill in some data. Now, they sent the new churn dataset back and you realized that its shape has changed.\n",
    "\n",
    "Before you go on, you need to do some reshaping again. The dataset contains a multi-level index in the columns. You'd like to have some columns set as the row index. Also, this time you will only stack some levels. You believe it will help you discover some patterns in the data.\n",
    "\n",
    "The DataFrame churn is available for you. It contains data about state, city, total_day_calls and total_day_minutes during day and night time. Make sure to examine it in the console!"
   ]
  },
  {
   "cell_type": "code",
   "execution_count": 28,
   "id": "45747538",
   "metadata": {},
   "outputs": [
    {
     "name": "stdout",
     "output_type": "stream",
     "text": [
      "state                    Unnamed: 0_level_0       night                \\\n",
      "                         Unnamed: 0_level_1 total calls total minutes   \n",
      "California Los Angeles                    0         116           204   \n",
      "           San Francisco                  1         109           287   \n",
      "New York   New York                       2          84            84   \n",
      "Ohio       Cleveland                      3          67            50   \n",
      "\n",
      "state                            day                \n",
      "                         total calls total minutes  \n",
      "California Los Angeles            85           107  \n",
      "           San Francisco          90           167  \n",
      "New York   New York               75            90  \n",
      "Ohio       Cleveland              67           110  \n",
      "\n"
     ]
    }
   ],
   "source": [
    "# https://medium.com/@gotashirato/how-to-import-csv-file-with-multi-level-columns-python-basics-and-a-question-b67cbbbc174d\n",
    "filename = 'churn2.csv'\n",
    "churn = pd.read_csv(filename, index_col=[1,2], header=[0,1])\n",
    "\n",
    "# Print churn\n",
    "print(churn)\n",
    "print()\n"
   ]
  },
  {
   "cell_type": "code",
   "execution_count": 29,
   "id": "3cc89ee8",
   "metadata": {},
   "outputs": [
    {
     "name": "stdout",
     "output_type": "stream",
     "text": [
      "state                          night                       day              \n",
      "                         total calls total minutes total calls total minutes\n",
      "California Los Angeles           116           204          85           107\n",
      "           San Francisco         109           287          90           167\n",
      "New York   New York               84            84          75            90\n",
      "Ohio       Cleveland              67            50          67           110\n",
      "\n"
     ]
    }
   ],
   "source": [
    "churn = churn.iloc[:, 1:]\n",
    "\n",
    "# Print churn\n",
    "print(churn)\n",
    "print()"
   ]
  },
  {
   "cell_type": "code",
   "execution_count": 30,
   "id": "5ee521b7",
   "metadata": {},
   "outputs": [
    {
     "name": "stdout",
     "output_type": "stream",
     "text": [
      "state                                   day  night\n",
      "California Los Angeles   total calls     85    116\n",
      "                         total minutes  107    204\n",
      "           San Francisco total calls     90    109\n",
      "                         total minutes  167    287\n",
      "New York   New York      total calls     75     84\n",
      "                         total minutes   90     84\n",
      "Ohio       Cleveland     total calls     67     67\n",
      "                         total minutes  110     50\n"
     ]
    }
   ],
   "source": [
    "# Reshape by stacking the second level\n",
    "churn_stack = churn.stack(level=1)\n",
    "\n",
    "# Print churn_stack\n",
    "print(churn_stack)"
   ]
  },
  {
   "cell_type": "markdown",
   "id": "d35b69d1",
   "metadata": {},
   "source": [
    "##### Text me!\n",
    "You are making progress in your customer's project. Now, you need to analyze a new dataset to find differences in the messages and gigabytes (GB) of data the customers use during the daytime and nighttime.\n",
    "\n",
    "To that aim, you will reshape your dataset churn using different levels. The advantage of your new dataset is that the column indices have names.\n",
    "\n",
    "The DataFrame churn is available for you. It contains data about state, city, text messages and total GB during day and night time.\n"
   ]
  },
  {
   "cell_type": "code",
   "execution_count": 34,
   "id": "f8544f96",
   "metadata": {},
   "outputs": [
    {
     "name": "stdout",
     "output_type": "stream",
     "text": [
      "time                               day                  night         \n",
      "feature                  text messages total GB text messages total GB\n",
      "state      city                                                       \n",
      "California Los Angeles              20        5            30       10\n",
      "           San Francisco            40        5           100        5\n",
      "New York   New York                 50        2            20        9\n",
      "Ohio       Cleveland               100        3            40        6\n"
     ]
    }
   ],
   "source": [
    "filename = 'churn3.csv'\n",
    "churn = pd.read_csv(filename, index_col=[0,1], header=[0,1])\n",
    "print(churn)"
   ]
  },
  {
   "cell_type": "code",
   "execution_count": 35,
   "id": "3dedc3bb",
   "metadata": {},
   "outputs": [
    {
     "name": "stdout",
     "output_type": "stream",
     "text": [
      "feature                         text messages  total GB\n",
      "state      city          time                          \n",
      "California Los Angeles   day               20         5\n",
      "                         night             30        10\n",
      "           San Francisco day               40         5\n",
      "                         night            100         5\n",
      "New York   New York      day               50         2\n",
      "                         night             20         9\n",
      "Ohio       Cleveland     day              100         3\n",
      "                         night             40         6\n"
     ]
    }
   ],
   "source": [
    "# Stack churn by the time column level\n",
    "churn_time = churn.stack(level=0)\n",
    "\n",
    "# Print churn_time\n",
    "print(churn_time)"
   ]
  },
  {
   "cell_type": "code",
   "execution_count": 36,
   "id": "be991e8e",
   "metadata": {},
   "outputs": [
    {
     "name": "stdout",
     "output_type": "stream",
     "text": [
      "time                                    day  night\n",
      "state      city          feature                  \n",
      "California Los Angeles   text messages   20     30\n",
      "                         total GB         5     10\n",
      "           San Francisco text messages   40    100\n",
      "                         total GB         5      5\n",
      "New York   New York      text messages   50     20\n",
      "                         total GB         2      9\n",
      "Ohio       Cleveland     text messages  100     40\n",
      "                         total GB         3      6\n"
     ]
    }
   ],
   "source": [
    "# Stack churn by the feature column level\n",
    "churn_feature = churn.stack(level='feature')\n",
    "\n",
    "# Print churn_feature\n",
    "print(churn_feature)"
   ]
  },
  {
   "cell_type": "markdown",
   "id": "c073cda7",
   "metadata": {},
   "source": [
    "##### International caller\n",
    "You have a new task. You will analyze the pattern of customers on international and domestic calls.\n",
    "\n",
    "You explore the churn dataset, which contains a multi-level row index. Again, you will reshape the data, as you expect it will help you to do further analysis.\n",
    "\n",
    "The DataFrame churn is available for you. It contains data about minutes, calls, and charge for different times of the day, types of calls, and exited status. Make sure to examine it in the console!"
   ]
  },
  {
   "cell_type": "code",
   "execution_count": 47,
   "id": "893889d6",
   "metadata": {},
   "outputs": [
    {
     "name": "stdout",
     "output_type": "stream",
     "text": [
      "                              minutes  calls  charge\n",
      "time  type          exited                          \n",
      "day   International churn       184.5     97   31.37\n",
      "      National      churn       129.1    137   21.95\n",
      "night International churn       332.9     67   56.59\n",
      "      National      no churn    110.4    103   18.77\n",
      "eve   International no churn    119.3    117   20.28\n",
      "      National      no churn    137.1     88   23.31\n"
     ]
    }
   ],
   "source": [
    "filename = 'churn4.csv'\n",
    "churn = pd.read_csv(filename).set_index(['time','type','exited'])\n",
    "\n",
    "print(churn)\n"
   ]
  },
  {
   "cell_type": "code",
   "execution_count": 50,
   "id": "99f36614",
   "metadata": {},
   "outputs": [
    {
     "name": "stdout",
     "output_type": "stream",
     "text": [
      "                    minutes           calls          charge         \n",
      "exited                churn no churn  churn no churn  churn no churn\n",
      "time  type                                                          \n",
      "day   International   184.5      NaN   97.0      NaN  31.37      NaN\n",
      "      National        129.1      NaN  137.0      NaN  21.95      NaN\n",
      "eve   International     NaN    119.3    NaN    117.0    NaN    20.28\n",
      "      National          NaN    137.1    NaN     88.0    NaN    23.31\n",
      "night International   332.9      NaN   67.0      NaN  56.59      NaN\n",
      "      National          NaN    110.4    NaN    103.0    NaN    18.77\n"
     ]
    }
   ],
   "source": [
    "# Reshape the churn DataFrame by unstacking\n",
    "churn_unstack = churn.unstack()\n",
    "\n",
    "# Print churn_unstack\n",
    "print(churn_unstack)"
   ]
  },
  {
   "cell_type": "code",
   "execution_count": 51,
   "id": "42f7f479",
   "metadata": {},
   "outputs": [
    {
     "name": "stdout",
     "output_type": "stream",
     "text": [
      "                       minutes                calls               charge  \\\n",
      "time                       day    eve  night    day    eve  night    day   \n",
      "type          exited                                                       \n",
      "International churn      184.5    NaN  332.9   97.0    NaN   67.0  31.37   \n",
      "              no churn     NaN  119.3    NaN    NaN  117.0    NaN    NaN   \n",
      "National      churn      129.1    NaN    NaN  137.0    NaN    NaN  21.95   \n",
      "              no churn     NaN  137.1  110.4    NaN   88.0  103.0    NaN   \n",
      "\n",
      "                                      \n",
      "time                      eve  night  \n",
      "type          exited                  \n",
      "International churn       NaN  56.59  \n",
      "              no churn  20.28    NaN  \n",
      "National      churn       NaN    NaN  \n",
      "              no churn  23.31  18.77  \n"
     ]
    }
   ],
   "source": [
    "# Reshape churn by unstacking the first row level\n",
    "churn_first = churn.unstack(level=0)\n",
    "\n",
    "# Print churn_zero\n",
    "print(churn_first)"
   ]
  },
  {
   "cell_type": "code",
   "execution_count": 52,
   "id": "17943318",
   "metadata": {},
   "outputs": [
    {
     "name": "stdout",
     "output_type": "stream",
     "text": [
      "                     minutes                  calls                 charge  \\\n",
      "type           International National International National International   \n",
      "time  exited                                                                 \n",
      "day   churn            184.5    129.1          97.0    137.0         31.37   \n",
      "eve   no churn         119.3    137.1         117.0     88.0         20.28   \n",
      "night churn            332.9      NaN          67.0      NaN         56.59   \n",
      "      no churn           NaN    110.4           NaN    103.0           NaN   \n",
      "\n",
      "                         \n",
      "type           National  \n",
      "time  exited             \n",
      "day   churn       21.95  \n",
      "eve   no churn    23.31  \n",
      "night churn         NaN  \n",
      "      no churn    18.77  \n"
     ]
    }
   ],
   "source": [
    "# Reshape churn by unstacking the second row level\n",
    "churn_second = churn.unstack(level=1)\n",
    "\n",
    "# Print churn_second\n",
    "print(churn_second)"
   ]
  },
  {
   "cell_type": "code",
   "execution_count": 53,
   "id": "8630213e",
   "metadata": {},
   "outputs": [
    {
     "name": "stdout",
     "output_type": "stream",
     "text": [
      "                       minutes                calls               charge  \\\n",
      "time                       day    eve  night    day    eve  night    day   \n",
      "type          exited                                                       \n",
      "National      no churn     NaN  137.1  110.4    NaN   88.0  103.0    NaN   \n",
      "              churn      129.1    NaN    NaN  137.0    NaN    NaN  21.95   \n",
      "International no churn     NaN  119.3    NaN    NaN  117.0    NaN    NaN   \n",
      "              churn      184.5    NaN  332.9   97.0    NaN   67.0  31.37   \n",
      "\n",
      "                                      \n",
      "time                      eve  night  \n",
      "type          exited                  \n",
      "National      no churn  23.31  18.77  \n",
      "              churn       NaN    NaN  \n",
      "International no churn  20.28    NaN  \n",
      "              churn       NaN  56.59  \n"
     ]
    }
   ],
   "source": [
    "# Sort the index in descending order\n",
    "churn_time = churn.unstack(level='time').sort_index(ascending=False)\n",
    "\n",
    "# Print churn_time\n",
    "print(churn_time)"
   ]
  },
  {
   "cell_type": "markdown",
   "id": "582ff2c4",
   "metadata": {},
   "source": [
    "##### Organizing your voicemail\n",
    "You will perform one final task before moving to a new project. You will reshape the DataFrame churn again. This time, you'll reorganize a row index as a column index. After that, you will move a column index to a row index. To do this, you will first unstack the DataFrame, and then stack it.\n",
    "\n",
    "The same churn DataFrame is available for you. It contains data about minutes, calls, and charge for different times of the day, types of calls, and exited status. Make sure to examine it in the console!"
   ]
  },
  {
   "cell_type": "code",
   "execution_count": 55,
   "id": "3fddccab",
   "metadata": {},
   "outputs": [
    {
     "name": "stdout",
     "output_type": "stream",
     "text": [
      "type                    International  National\n",
      "time  exited                                   \n",
      "day   churn    calls            97.00    137.00\n",
      "               charge           31.37     21.95\n",
      "               minutes         184.50    129.10\n",
      "eve   no churn calls           117.00     88.00\n",
      "               charge           20.28     23.31\n",
      "               minutes         119.30    137.10\n",
      "night churn    calls            67.00       NaN\n",
      "               charge           56.59       NaN\n",
      "               minutes         332.90       NaN\n",
      "      no churn calls              NaN    103.00\n",
      "               charge             NaN     18.77\n",
      "               minutes            NaN    110.40\n"
     ]
    }
   ],
   "source": [
    "# Unstack churn by type level\n",
    "churn_final = churn.unstack(level='type').stack(level=0)\n",
    "\n",
    "# Print churn_type\n",
    "print(churn_final)"
   ]
  },
  {
   "cell_type": "markdown",
   "id": "c80e96be",
   "metadata": {},
   "source": [
    "##### Swap your SIM card\n",
    "Great job so far! You were able to reshape your dataset in several ways. Now it's time to go a step further and analyze the data to discover if a customer's cell phone plan is related to the customer leaving.\n",
    "\n",
    "You explore the churn dataset and notice that the row levels are not well organized. First, you want to rearrange your row indicesso it's easier to reshape your DataFrame.\n",
    "\n",
    "The churn DataFrame is available for you. It contains data about minutes, voicemail, and data plans for different years. The data is indexed by state, city, and exited status. Make sure to examine it in the console!"
   ]
  },
  {
   "cell_type": "code",
   "execution_count": 58,
   "id": "81b09ad2",
   "metadata": {},
   "outputs": [
    {
     "name": "stdout",
     "output_type": "stream",
     "text": [
      "year                               2019                   2020               \n",
      "plan                            minutes voicemail data minutes voicemail data\n",
      "exited   state      city                                                     \n",
      "churn    California Los Angeles       0         1    2       1         1    5\n",
      "no_churn California Los Angeles       0         1    3       1         0    2\n",
      "churn    New York   New York          1         0    5       0         1    2\n",
      "no_churn New York   New York          1         0    4       1         0    6\n"
     ]
    }
   ],
   "source": [
    "filename = 'churn5.csv'\n",
    "churn = pd.read_csv(filename, index_col=[0,1,2], header=[0,1])\n",
    "print(churn)\n"
   ]
  },
  {
   "cell_type": "code",
   "execution_count": 60,
   "id": "f15af42d",
   "metadata": {},
   "outputs": [
    {
     "name": "stdout",
     "output_type": "stream",
     "text": [
      "year                               2019                   2020               \n",
      "plan                            minutes voicemail data minutes voicemail data\n",
      "city        state      exited                                                \n",
      "Los Angeles California churn          0         1    2       1         1    5\n",
      "                       no_churn       0         1    3       1         0    2\n",
      "New York    New York   churn          1         0    5       0         1    2\n",
      "                       no_churn       1         0    4       1         0    6\n"
     ]
    }
   ],
   "source": [
    "# Switch the first and third row index levels in churn\n",
    "churn_swap = churn.swaplevel(0, 2)\n",
    "\n",
    "# Reshape by unstacking the last row level \n",
    "churn_unstack = churn_swap.unstack()\n",
    "\n",
    "# Print churn_unstack\n",
    "print(churn_unstack)"
   ]
  },
  {
   "cell_type": "markdown",
   "id": "cc938543",
   "metadata": {},
   "source": [
    "##### Two many calls\n",
    "Your last analysis was successful, but you still have some questions to answer. You are not satisfied with the organization of the data in your DataFrame.\n",
    "\n",
    "For that reason, you plan on switching and rearranging row and column indices by chaining the stacking and unstacking processes. Also, you would like to rearrange several levels at the same time.\n",
    "\n",
    "The same churn DataFrame is available for you. It contains data about minutes, voicemail, and data plans for different years. The data is indexed by state, city, and exited status."
   ]
  },
  {
   "cell_type": "code",
   "execution_count": 61,
   "id": "f887ac16",
   "metadata": {},
   "outputs": [
    {
     "name": "stdout",
     "output_type": "stream",
     "text": [
      "year              2019                                                   \\\n",
      "plan           minutes                               voicemail            \n",
      "exited           churn            no_churn               churn            \n",
      "state       California New York California New York California New York   \n",
      "city                                                                      \n",
      "Los Angeles        0.0      NaN        0.0      NaN        1.0      NaN   \n",
      "New York           NaN      1.0        NaN      1.0        NaN      0.0   \n",
      "\n",
      "year                                                 ...       2020           \\\n",
      "plan                                  data           ...    minutes            \n",
      "exited        no_churn               churn           ...   no_churn            \n",
      "state       California New York California New York  ... California New York   \n",
      "city                                                 ...                       \n",
      "Los Angeles        1.0      NaN        2.0      NaN  ...        1.0      NaN   \n",
      "New York           NaN      0.0        NaN      5.0  ...        NaN      1.0   \n",
      "\n",
      "year                                                                     \\\n",
      "plan         voicemail                                    data            \n",
      "exited           churn            no_churn               churn            \n",
      "state       California New York California New York California New York   \n",
      "city                                                                      \n",
      "Los Angeles        1.0      NaN        0.0      NaN        5.0      NaN   \n",
      "New York           NaN      1.0        NaN      0.0        NaN      2.0   \n",
      "\n",
      "year                             \n",
      "plan                             \n",
      "exited        no_churn           \n",
      "state       California New York  \n",
      "city                             \n",
      "Los Angeles        2.0      NaN  \n",
      "New York           NaN      6.0  \n",
      "\n",
      "[2 rows x 24 columns]\n"
     ]
    }
   ],
   "source": [
    "# Unstack the first and second row level of churn\n",
    "churn_unstack = churn.unstack(level=[0, 1])\n",
    "\n",
    "# Print churn_unstack\n",
    "print(churn_unstack)"
   ]
  },
  {
   "cell_type": "code",
   "execution_count": 62,
   "id": "a16af043",
   "metadata": {},
   "outputs": [
    {
     "name": "stdout",
     "output_type": "stream",
     "text": [
      "exited                          churn            no_churn         \n",
      "state                      California New York California New York\n",
      "city        plan      year                                        \n",
      "Los Angeles data      2019        2.0      NaN        3.0      NaN\n",
      "                      2020        5.0      NaN        2.0      NaN\n",
      "            minutes   2019        0.0      NaN        0.0      NaN\n",
      "                      2020        1.0      NaN        1.0      NaN\n",
      "            voicemail 2019        1.0      NaN        1.0      NaN\n",
      "                      2020        1.0      NaN        0.0      NaN\n",
      "New York    data      2019        NaN      5.0        NaN      4.0\n",
      "                      2020        NaN      2.0        NaN      6.0\n",
      "            minutes   2019        NaN      1.0        NaN      1.0\n",
      "                      2020        NaN      0.0        NaN      1.0\n",
      "            voicemail 2019        NaN      0.0        NaN      0.0\n",
      "                      2020        NaN      1.0        NaN      0.0\n"
     ]
    }
   ],
   "source": [
    "# Unstack the first and second row level of churn\n",
    "churn_unstack = churn.unstack(level=[0, 1])\n",
    "\n",
    "# Stack the resulting DataFrame using plan and year\n",
    "churn_py = churn_unstack.stack(level=[1,0])\n",
    "\n",
    "# Print churn_py\n",
    "print(churn_py)"
   ]
  },
  {
   "cell_type": "code",
   "execution_count": 63,
   "id": "106eeb5a",
   "metadata": {},
   "outputs": [
    {
     "name": "stdout",
     "output_type": "stream",
     "text": [
      "state                      California New York California New York\n",
      "exited                          churn    churn   no_churn no_churn\n",
      "city        plan      year                                        \n",
      "Los Angeles data      2019        2.0      NaN        3.0      NaN\n",
      "                      2020        5.0      NaN        2.0      NaN\n",
      "            minutes   2019        0.0      NaN        0.0      NaN\n",
      "                      2020        1.0      NaN        1.0      NaN\n",
      "            voicemail 2019        1.0      NaN        1.0      NaN\n",
      "                      2020        1.0      NaN        0.0      NaN\n",
      "New York    data      2019        NaN      5.0        NaN      4.0\n",
      "                      2020        NaN      2.0        NaN      6.0\n",
      "            minutes   2019        NaN      1.0        NaN      1.0\n",
      "                      2020        NaN      0.0        NaN      1.0\n",
      "            voicemail 2019        NaN      0.0        NaN      0.0\n",
      "                      2020        NaN      1.0        NaN      0.0\n"
     ]
    }
   ],
   "source": [
    "# Unstack the first and second row level of churn\n",
    "churn_unstack = churn.unstack(level=[0, 1])\n",
    "\n",
    "# Stack the resulting DataFrame using plan and year\n",
    "churn_py = churn_unstack.stack(['plan', 'year'])\n",
    "\n",
    "# Switch the first and second column levels\n",
    "churn_switch = churn_py.swaplevel(0, 1, axis=1)\n",
    "\n",
    "# Print churn_switch\n",
    "print(churn_switch)"
   ]
  },
  {
   "cell_type": "markdown",
   "id": "712685c2",
   "metadata": {},
   "source": [
    "##### A missed phone call\n",
    "You finished reshaping your churn dataset in the previous exercises. Now, it is ready to be used. You remember that something caught your attention. You are sure you saw a clear pattern in the data.\n",
    "\n",
    "Before you fit a classification model, you decide to do something simpler. You want to see what else you can learn from the data. You will reshape your data by unstacking levels, but you know this process will generate missing data that you need to handle.\n",
    "\n",
    "The churn DataFrame contains different features of customers located in Los Angeles and New York, and is available for you. Make sure to examine it in the console!\n",
    "\n",
    "\n"
   ]
  },
  {
   "cell_type": "code",
   "execution_count": 91,
   "id": "72838c08",
   "metadata": {},
   "outputs": [
    {
     "name": "stdout",
     "output_type": "stream",
     "text": [
      "                                                total_day_calls  \\\n",
      "state international_plan voice_mail_plan churn                    \n",
      "LA    No                 No              False       106.818182   \n",
      "                                         True        100.000000   \n",
      "                         Yes             False       100.000000   \n",
      "NY    No                 No              False        90.900000   \n",
      "                                         True         95.000000   \n",
      "                         Yes             False       115.000000   \n",
      "      Yes                No              False       109.000000   \n",
      "                                         True         87.000000   \n",
      "LA    Yes                No              False        78.000000   \n",
      "                                         True         69.000000   \n",
      "NY    Yes                Yes             False       120.000000   \n",
      "LA    Yes                Yes             False        71.000000   \n",
      "\n",
      "                                                total_night_calls  \n",
      "state international_plan voice_mail_plan churn                     \n",
      "LA    No                 No              False          96.909091  \n",
      "                                         True          119.000000  \n",
      "                         Yes             False          84.250000  \n",
      "NY    No                 No              False         100.800000  \n",
      "                                         True          101.500000  \n",
      "                         Yes             False         121.000000  \n",
      "      Yes                No              False          99.000000  \n",
      "                                         True          113.000000  \n",
      "LA    Yes                No              False          90.000000  \n",
      "                                         True          104.000000  \n",
      "NY    Yes                Yes             False          78.000000  \n",
      "LA    Yes                Yes             False         101.000000  \n"
     ]
    }
   ],
   "source": [
    "filename = 'churn6.csv'\n",
    "churn = pd.read_csv(filename, index_col=[0,1,2,3])\n",
    "\n",
    "print(churn)\n"
   ]
  },
  {
   "cell_type": "code",
   "execution_count": 92,
   "id": "581de815",
   "metadata": {},
   "outputs": [
    {
     "name": "stdout",
     "output_type": "stream",
     "text": [
      "                                         total_day_calls         \\\n",
      "churn                                              False   True   \n",
      "state international_plan voice_mail_plan                          \n",
      "LA    No                 Yes                  100.000000    0.0   \n",
      "NY    No                 Yes                  115.000000    0.0   \n",
      "LA    Yes                Yes                   71.000000    0.0   \n",
      "NY    Yes                Yes                  120.000000    0.0   \n",
      "LA    No                 No                   106.818182  100.0   \n",
      "NY    No                 No                    90.900000   95.0   \n",
      "LA    Yes                No                    78.000000   69.0   \n",
      "NY    Yes                No                   109.000000   87.0   \n",
      "\n",
      "                                         total_night_calls         \n",
      "churn                                                False   True  \n",
      "state international_plan voice_mail_plan                           \n",
      "LA    No                 Yes                     84.250000    0.0  \n",
      "NY    No                 Yes                    121.000000    0.0  \n",
      "LA    Yes                Yes                    101.000000    0.0  \n",
      "NY    Yes                Yes                     78.000000    0.0  \n",
      "LA    No                 No                      96.909091  119.0  \n",
      "NY    No                 No                     100.800000  101.5  \n",
      "LA    Yes                No                      90.000000  104.0  \n",
      "NY    Yes                No                      99.000000  113.0  \n"
     ]
    }
   ],
   "source": [
    "# Unstack churn level and fill missing values with zero\n",
    "churn2 = churn.unstack(level=3, fill_value=0)\n",
    "\n",
    "# Sort by descending voice mail plan and ascending international plan\n",
    "churn_sorted = churn2.sort_index(level=[2, 1], \n",
    "                          ascending=[False, True])\n",
    "\n",
    "# Print final DataFrame and observe pattern\n",
    "print(churn_sorted)"
   ]
  },
  {
   "cell_type": "markdown",
   "id": "b76d8180",
   "metadata": {},
   "source": [
    "##### Don't drop the stack\n",
    "It's almost time to go home, but first, you need to finish your last task. You have a small dataset containing the total number of calls made by customers.\n",
    "\n",
    "To perform your analysis, you need to reshape your churn data by stacking different levels. You know this process will generate missing data. You want to check if it is worth keeping the rows that contain all missing values, or if it's better to drop that information.\n",
    "\n",
    "The churn DataFrame is available for you"
   ]
  },
  {
   "cell_type": "code",
   "execution_count": 101,
   "id": "c1669aec",
   "metadata": {},
   "outputs": [
    {
     "name": "stdout",
     "output_type": "stream",
     "text": [
      "type  total_day_calls total_night_calls         \n",
      "scope   international     international national\n",
      "LA                 23                30      NaN\n",
      "NY                  8                34     24.0\n",
      "CA                  8                34     24.0\n"
     ]
    }
   ],
   "source": [
    "filename = 'churn7.csv'\n",
    "churn = pd.read_csv(filename, index_col=0, header=[0,1])\n",
    "\n",
    "print(churn)"
   ]
  },
  {
   "cell_type": "code",
   "execution_count": 102,
   "id": "848923af",
   "metadata": {},
   "outputs": [
    {
     "name": "stdout",
     "output_type": "stream",
     "text": [
      "scope                 international  national\n",
      "   type                                      \n",
      "LA total_day_calls               23       0.0\n",
      "   total_night_calls             30       0.0\n",
      "NY total_day_calls                8       0.0\n",
      "   total_night_calls             34      24.0\n",
      "CA total_day_calls                8       0.0\n",
      "   total_night_calls             34      24.0\n"
     ]
    }
   ],
   "source": [
    "# Stack the level type from churn\n",
    "churn_stack = churn.stack(level='type')\n",
    "\n",
    "# Fill the resulting missing values with zero \n",
    "churn_fill = churn_stack.fillna(0)\n",
    "\n",
    "# Print churn_fill\n",
    "print(churn_fill)"
   ]
  },
  {
   "cell_type": "code",
   "execution_count": 103,
   "id": "18c297ef",
   "metadata": {},
   "outputs": [
    {
     "name": "stdout",
     "output_type": "stream",
     "text": [
      "type              total_day_calls  total_night_calls\n",
      "   scope                                            \n",
      "LA international             23.0               30.0\n",
      "   national                   0.0                0.0\n",
      "NY international              8.0               34.0\n",
      "   national                   0.0               24.0\n",
      "CA international              8.0               34.0\n",
      "   national                   0.0               24.0\n"
     ]
    }
   ],
   "source": [
    "# Stack the level scope without dropping rows with missing values\n",
    "churn_stack = churn.stack(level='scope', dropna=False)\n",
    "\n",
    "# Fill the resulting missing values with zero\n",
    "churn_fill = churn_stack.fillna(0)\n",
    "\n",
    "# Print churn_fill\n",
    "print(churn_fill)"
   ]
  },
  {
   "cell_type": "code",
   "execution_count": null,
   "id": "7674710c",
   "metadata": {},
   "outputs": [],
   "source": []
  }
 ],
 "metadata": {
  "kernelspec": {
   "display_name": "Python 3 (ipykernel)",
   "language": "python",
   "name": "python3"
  },
  "language_info": {
   "codemirror_mode": {
    "name": "ipython",
    "version": 3
   },
   "file_extension": ".py",
   "mimetype": "text/x-python",
   "name": "python",
   "nbconvert_exporter": "python",
   "pygments_lexer": "ipython3",
   "version": "3.10.4"
  }
 },
 "nbformat": 4,
 "nbformat_minor": 5
}
