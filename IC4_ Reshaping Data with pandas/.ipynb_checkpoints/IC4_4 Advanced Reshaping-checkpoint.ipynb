{
 "cells": [
  {
   "cell_type": "markdown",
   "id": "76073e4b",
   "metadata": {},
   "source": [
    "#### 4 Advanced Reshaping\n",
    "You'll finish by learning how to combine the reshaping process with grouping to produce quick data manipulations. Lastly, you'll discover how to transform list-like columns and handle complex nested data, such as nested JSON files.\n",
    "\n",
    "##### Less fast food, please!\n",
    "Monday again! You will start working on a new project - analyzing the evolution of obesity through the years. You have a dataset called obesity with the percentage of obesity in different countries and years. The data is also disaggregated by biological sex.\n",
    "\n",
    "Your main goals are to get the mean percentage of obesity by year and sex, and by country and sex. Also, you want to get the difference between years.\n",
    "\n",
    "You notice that the dataset has multiple indices, so you know you will have to unstack levels to accomplish your goal.\n",
    "\n",
    "The obesity DataFrame is available in your session.\n"
   ]
  },
  {
   "cell_type": "code",
   "execution_count": 3,
   "id": "30f1de18",
   "metadata": {},
   "outputs": [
    {
     "name": "stdout",
     "output_type": "stream",
     "text": [
      "                               perc_obesity\n",
      "country   biological_sex year              \n",
      "Argentina Male           2005          21.5\n",
      "          Female         2005          24.2\n",
      "          Male           2015          26.8\n",
      "          Female         2015          28.5\n",
      "Japan     Male           2005           2.5\n",
      "          Female         2005           2.6\n",
      "          Male           2015           4.6\n",
      "          Female         2015           3.6\n",
      "Norway    Male           2005          17.6\n",
      "          Female         2005          18.6\n",
      "          Male           2015          23.0\n",
      "          Female         2015          22.2\n"
     ]
    }
   ],
   "source": [
    "import pandas as pd\n",
    "filename = 'obesity.csv'\n",
    "obesity = pd.read_csv(filename, index_col=[0,1,2])\n",
    "print(obesity)"
   ]
  },
  {
   "cell_type": "code",
   "execution_count": 4,
   "id": "b235f24e",
   "metadata": {},
   "outputs": [
    {
     "name": "stdout",
     "output_type": "stream",
     "text": [
      "biological_sex  year\n",
      "Female          2005    15.133333\n",
      "                2015    18.100000\n",
      "Male            2005    13.866667\n",
      "                2015    18.133333\n",
      "dtype: float64\n"
     ]
    }
   ],
   "source": [
    "# Unstack the first level and calculate the mean of the columns\n",
    "obesity_general = obesity.unstack(level=0).mean(axis=1)\n",
    "\n",
    "# Print obesity_general\n",
    "print(obesity_general)"
   ]
  },
  {
   "cell_type": "code",
   "execution_count": 5,
   "id": "2d2491f7",
   "metadata": {},
   "outputs": [
    {
     "name": "stdout",
     "output_type": "stream",
     "text": [
      "country    year\n",
      "Argentina  2005    22.85\n",
      "           2015    27.65\n",
      "Japan      2005     2.55\n",
      "           2015     4.10\n",
      "Norway     2005    18.10\n",
      "           2015    22.60\n",
      "dtype: float64\n"
     ]
    }
   ],
   "source": [
    "# Unstack the second level and calculate the mean of the columns\n",
    "obesity_mean = obesity.unstack(level=1).mean(axis=1)\n",
    "\n",
    "# Print obesity_mean\n",
    "print(obesity_mean)"
   ]
  },
  {
   "cell_type": "code",
   "execution_count": 6,
   "id": "02974d83",
   "metadata": {},
   "outputs": [
    {
     "name": "stdout",
     "output_type": "stream",
     "text": [
      "                         perc_obesity     \n",
      "year                             2005 2015\n",
      "country   biological_sex                  \n",
      "Argentina Female                  NaN  4.3\n",
      "          Male                    NaN  5.3\n",
      "Japan     Female                  NaN  1.0\n",
      "          Male                    NaN  2.1\n",
      "Norway    Female                  NaN  3.6\n",
      "          Male                    NaN  5.4\n"
     ]
    }
   ],
   "source": [
    "# Unstack the third level and calculate the difference between columns\n",
    "obesity_variation = obesity.unstack(level=2).diff(periods=1, axis=1)\n",
    "\n",
    "# Print obesity_variation\n",
    "print(obesity_variation)"
   ]
  },
  {
   "cell_type": "code",
   "execution_count": 10,
   "id": "3317a2a7",
   "metadata": {},
   "outputs": [
    {
     "name": "stdout",
     "output_type": "stream",
     "text": [
      "year                           1995                   2005            \\\n",
      "                       perc_obesity variation perc_obesity variation   \n",
      "country biological_sex                                                 \n",
      "France  Female                 15.3       7.7         18.1       8.2   \n",
      "        Male                   12.8       7.6         16.9       8.4   \n",
      "Germany Female                 14.4       4.6         17.2       5.2   \n",
      "        Male                   14.4       5.1         18.7       5.9   \n",
      "\n",
      "year                           2015            \n",
      "                       perc_obesity variation  \n",
      "country biological_sex                         \n",
      "France  Female                 20.8      11.3  \n",
      "        Male                   21.5      11.8  \n",
      "Germany Female                 20.1       8.4  \n",
      "        Male                   23.6       9.8  \n"
     ]
    }
   ],
   "source": [
    "filename = 'obesity2.csv'\n",
    "obesity = pd.read_csv(filename, index_col=[0,1], header=[0,1])\n",
    "print(obesity)"
   ]
  },
  {
   "cell_type": "code",
   "execution_count": 11,
   "id": "469073fd",
   "metadata": {},
   "outputs": [
    {
     "name": "stdout",
     "output_type": "stream",
     "text": [
      "                        perc_obesity  variation\n",
      "country biological_sex                         \n",
      "France  Female                  18.1        8.2\n",
      "        Male                    16.9        8.4\n",
      "Germany Female                  17.2        5.2\n",
      "        Male                    18.7        5.9\n"
     ]
    }
   ],
   "source": [
    "# Stack obesity, get median of columns and unstack again\n",
    "median_obesity = obesity.stack().median(axis=1).unstack()\n",
    "\n",
    "# Print median_obesity\n",
    "print(median_obesity)"
   ]
  },
  {
   "cell_type": "code",
   "execution_count": 13,
   "id": "a16f7731",
   "metadata": {},
   "outputs": [
    {
     "name": "stdout",
     "output_type": "stream",
     "text": [
      "biological_sex  Female  Male\n",
      "country year                \n",
      "France  1995      23.0  20.4\n",
      "        2005      26.3  25.3\n",
      "        2015      32.1  33.3\n",
      "Germany 1995      19.0  19.5\n",
      "        2005      22.4  24.6\n",
      "        2015      28.5  33.4\n"
     ]
    }
   ],
   "source": [
    "# Stack the first level, get sum, and unstack the second level\n",
    "obesity_sum = obesity.stack(level=0).sum(axis=1).unstack(level=1)\n",
    "\n",
    "# Print obesity_max\n",
    "print(obesity_sum)"
   ]
  },
  {
   "cell_type": "code",
   "execution_count": 15,
   "id": "deb8edfa",
   "metadata": {},
   "outputs": [
    {
     "name": "stdout",
     "output_type": "stream",
     "text": [
      "         perc_obesity  variation\n",
      "country                         \n",
      "France      17.566667   9.166667\n",
      "Germany     18.066667   6.500000\n"
     ]
    }
   ],
   "source": [
    "# Stack country level, group by country and get the mean\n",
    "obesity_mean = obesity.stack(level=0).groupby(level='country').mean()\n",
    "\n",
    "# Print obesity_mean\n",
    "print(obesity_mean)"
   ]
  },
  {
   "cell_type": "code",
   "execution_count": 30,
   "id": "db8116d1",
   "metadata": {},
   "outputs": [
    {
     "name": "stdout",
     "output_type": "stream",
     "text": [
      "                             perc_obesity  variation\n",
      "country biological_sex year                         \n",
      "France  Female         1995          15.3        7.7\n",
      "                       2005          18.1        8.2\n",
      "                       2015          20.8       11.3\n",
      "        Male           1995          12.8        7.6\n",
      "                       2005          16.9        8.4\n",
      "                       2015          21.5       11.8\n",
      "Germany Female         1995          14.4        4.6\n",
      "                       2005          17.2        5.2\n",
      "                       2015          20.1        8.4\n",
      "        Male           1995          14.4        5.1\n",
      "                       2005          18.7        5.9\n",
      "                       2015          23.6        9.8\n"
     ]
    }
   ],
   "source": [
    "# Stack country level, group by country and get the median \n",
    "obesity_median = obesity.stack(level=0)\n",
    "\n",
    "# Print obesity_median\n",
    "print(obesity_median)"
   ]
  },
  {
   "cell_type": "code",
   "execution_count": 31,
   "id": "06c43735",
   "metadata": {},
   "outputs": [
    {
     "name": "stdout",
     "output_type": "stream",
     "text": [
      "         perc_obesity  variation\n",
      "country                         \n",
      "France          17.50       8.30\n",
      "Germany         17.95       5.55\n"
     ]
    }
   ],
   "source": [
    "obesity_median = obesity_median.groupby(level='country').median()\n",
    "# Print obesity_median\n",
    "print(obesity_median)"
   ]
  },
  {
   "cell_type": "markdown",
   "id": "a6bad686",
   "metadata": {},
   "source": [
    "##### Merge it all\n",
    "Time to keep working with the obesity project! You will analyze the mean obesity percentage in different countries, but this time, the obesity DataFrame has a new column named bounds. It contains the minimum and maximum values you can find in different parts of the same country.\n",
    "\n",
    "You notice that these values are given in a list, so you decide that you need to transform that column. You would like to have each element in a new row.\n",
    "\n",
    "The DataFrame obesity is available in your session. Make sure to examine it in the console!"
   ]
  },
  {
   "cell_type": "code",
   "execution_count": 64,
   "id": "0226b138",
   "metadata": {},
   "outputs": [
    {
     "name": "stdout",
     "output_type": "stream",
     "text": [
      "     country  perc_obesity      bounds\n",
      "0  Argentina          21.5  15.4, 31.5\n",
      "1    Germany          22.3  16.2, 32.4\n",
      "2      Japan           2.5    1.1, 3.5\n",
      "3     Norway          23.0  13.1, 33.0\n"
     ]
    }
   ],
   "source": [
    "filename = 'obesity3.csv'\n",
    "obesity0 = pd.read_csv(filename, index_col=[0], header=[0])\n",
    "print(obesity)"
   ]
  },
  {
   "cell_type": "code",
   "execution_count": 66,
   "id": "f5624d28",
   "metadata": {},
   "outputs": [
    {
     "name": "stdout",
     "output_type": "stream",
     "text": [
      "     country  perc_obesity         bounds\n",
      "0  Argentina          21.5  [15.4,  31.5]\n",
      "1    Germany          22.3  [16.2,  32.4]\n",
      "2      Japan           2.5    [1.1,  3.5]\n",
      "3     Norway          23.0  [13.1,  33.0]\n"
     ]
    }
   ],
   "source": [
    "# Explode the values of bounds to a separate row\n",
    "obesity = obesity0.assign(bounds=obesity0['bounds'].str.split(','))\n",
    "\n",
    "# Print obesity_bounds\n",
    "print(obesity)"
   ]
  },
  {
   "cell_type": "code",
   "execution_count": 67,
   "id": "c98f856d",
   "metadata": {},
   "outputs": [
    {
     "name": "stdout",
     "output_type": "stream",
     "text": [
      "0     15.4\n",
      "0     31.5\n",
      "1     16.2\n",
      "1     32.4\n",
      "2      1.1\n",
      "2      3.5\n",
      "3     13.1\n",
      "3     33.0\n",
      "Name: bounds, dtype: object\n"
     ]
    }
   ],
   "source": [
    "# Explode the values of bounds to a separate row\n",
    "obesity_bounds = obesity['bounds'].explode()\n",
    "\n",
    "# Print obesity_bounds\n",
    "print(obesity_bounds)"
   ]
  },
  {
   "cell_type": "code",
   "execution_count": 68,
   "id": "ad9762a7",
   "metadata": {},
   "outputs": [
    {
     "name": "stdout",
     "output_type": "stream",
     "text": [
      "     country  perc_obesity bounds\n",
      "0  Argentina          21.5   15.4\n",
      "0  Argentina          21.5   31.5\n",
      "1    Germany          22.3   16.2\n",
      "1    Germany          22.3   32.4\n",
      "2      Japan           2.5    1.1\n",
      "2      Japan           2.5    3.5\n",
      "3     Norway          23.0   13.1\n",
      "3     Norway          23.0   33.0\n"
     ]
    }
   ],
   "source": [
    "# Merge obesity_bounds with country and perc_obesity columns of obesity using the indexes\n",
    "obesity_final = obesity[['country', 'perc_obesity']].merge(obesity_bounds, \n",
    "                                        right_index=True, \n",
    "                                        left_index=True)\n",
    "\n",
    "# Print obesity_final\n",
    "print(obesity_final)"
   ]
  },
  {
   "cell_type": "markdown",
   "id": "03b180fc",
   "metadata": {},
   "source": [
    "###### Explode the bounds\n",
    "You were able to transform the list-like column successfully, but you are not satisfied with the steps you had to take. You want to find an easier way to get the same reshaped DataFrame.\n",
    "\n",
    "You remembered what you learned about exploding list-like columns, and you will apply a new strategy.\n",
    "\n",
    "The same DataFrame obesity is available in your session. It contains the country, perc_obesity, and the column bounds with the minimum and maximum values you can find in different parts of the same country."
   ]
  },
  {
   "cell_type": "code",
   "execution_count": 69,
   "id": "91ca172b",
   "metadata": {},
   "outputs": [
    {
     "name": "stdout",
     "output_type": "stream",
     "text": [
      "     country  perc_obesity bounds\n",
      "0  Argentina          21.5   15.4\n",
      "1  Argentina          21.5   31.5\n",
      "2    Germany          22.3   16.2\n",
      "3    Germany          22.3   32.4\n",
      "4      Japan           2.5    1.1\n",
      "5      Japan           2.5    3.5\n",
      "6     Norway          23.0   13.1\n",
      "7     Norway          23.0   33.0\n"
     ]
    }
   ],
   "source": [
    "# Modify obesity_explode by resetting the index \n",
    "obesity_final.reset_index(drop=True, inplace=True)\n",
    "\n",
    "# Print obesity_explode\n",
    "print(obesity_final)"
   ]
  },
  {
   "cell_type": "code",
   "execution_count": 72,
   "id": "acee3181",
   "metadata": {},
   "outputs": [
    {
     "name": "stdout",
     "output_type": "stream",
     "text": [
      "        country  perc_obesity     bounds\n",
      "0        France          14.5  11.4-25.5\n",
      "1        Mexico          25.3  16.2-32.4\n",
      "2         Spain          12.5   8.1-16.5\n",
      "3  South Africa          11.3   9.1-20.1\n"
     ]
    }
   ],
   "source": [
    "filename = 'obesity4.csv'\n",
    "obesity = pd.read_csv(filename, index_col=[0])\n",
    "print(obesity)"
   ]
  },
  {
   "cell_type": "code",
   "execution_count": 73,
   "id": "6689f6fa",
   "metadata": {},
   "outputs": [
    {
     "name": "stdout",
     "output_type": "stream",
     "text": [
      "0    [11.4, 25.5]\n",
      "1    [16.2, 32.4]\n",
      "2     [8.1, 16.5]\n",
      "3     [9.1, 20.1]\n",
      "Name: bounds, dtype: object\n"
     ]
    }
   ],
   "source": [
    "# Split the columns bounds using a hyphen as delimiter\n",
    "obesity_split = obesity['bounds'].str.split('-')\n",
    "\n",
    "# Print obesity_split\n",
    "print(obesity_split)"
   ]
  },
  {
   "cell_type": "code",
   "execution_count": 74,
   "id": "146be21b",
   "metadata": {},
   "outputs": [
    {
     "name": "stdout",
     "output_type": "stream",
     "text": [
      "        country  perc_obesity bounds\n",
      "0        France          14.5   11.4\n",
      "0        France          14.5   25.5\n",
      "1        Mexico          25.3   16.2\n",
      "1        Mexico          25.3   32.4\n",
      "2         Spain          12.5    8.1\n",
      "2         Spain          12.5   16.5\n",
      "3  South Africa          11.3    9.1\n",
      "3  South Africa          11.3   20.1\n"
     ]
    }
   ],
   "source": [
    "# Transform the column bounds in the obesity DataFrame\n",
    "obesity_split = obesity.assign(bounds=obesity['bounds'].str.split('-')).explode('bounds')\n",
    "\n",
    "# Print obesity_split\n",
    "print(obesity_split)"
   ]
  },
  {
   "cell_type": "code",
   "execution_count": 85,
   "id": "c1db6c5a",
   "metadata": {},
   "outputs": [
    {
     "name": "stdout",
     "output_type": "stream",
     "text": [
      "      director       producer          features_title  features_year\n",
      "0  Woody Allen  Letty Aronson  Magic in the Moonlight           2014\n",
      "1    Niki Caro     Jason Reed                   Mulan           2020\n",
      "\n",
      "                                                features\n",
      "director    producer      movies                        \n",
      "Woody Allen Letty Aronson title   Magic in the Moonlight\n",
      "                          year                      2014\n",
      "Niki Caro   Jason Reed    title                    Mulan\n",
      "                          year                      2020\n"
     ]
    }
   ],
   "source": [
    "# Import the json_normalize function\n",
    "from pandas import json_normalize\n",
    "\n",
    "movies = [{'director': 'Woody Allen', 'producer': 'Letty Aronson', 'features': {'title': 'Magic in the Moonlight', 'year': 2014}}, {'director': 'Niki Caro', 'producer': 'Jason Reed', 'features': {'title': 'Mulan', 'year': 2020}}]\n",
    "\n",
    "# Normalize movies and separate the new columns with an underscore \n",
    "movies_norm = json_normalize(movies, sep='_')\n",
    "\n",
    "print(movies_norm)\n",
    "print()\n",
    "\n",
    "# Reshape using director and producer as index, create movies from column starting from features\n",
    "movies_long = pd.wide_to_long(movies_norm, stubnames='features', \n",
    "                      i=['director','producer'], j='movies', \n",
    "                      sep='_', suffix='\\w+')\n",
    "\n",
    "# Print movies_long\n",
    "print(movies_long)"
   ]
  },
  {
   "cell_type": "code",
   "execution_count": 76,
   "id": "41cc1135",
   "metadata": {},
   "outputs": [
    {
     "name": "stdout",
     "output_type": "stream",
     "text": [
      "      director       producer          features.title  features.year\n",
      "0  Woody Allen  Letty Aronson  Magic in the Moonlight           2014\n",
      "1    Niki Caro     Jason Reed                   Mulan           2020\n"
     ]
    }
   ],
   "source": [
    "# Specify the features column as the list of records \n",
    "normalize_movies = json_normalize(movies)\n",
    "\n",
    "# Print normalize_movies\n",
    "print(normalize_movies)"
   ]
  },
  {
   "cell_type": "code",
   "execution_count": 82,
   "id": "73c61375",
   "metadata": {},
   "outputs": [],
   "source": [
    "# Specify director and producer to use as metadata for each record \n",
    "# normalize_movies = json_normalize(movies, record_path='features', meta=['director','producer'])\n",
    "\n",
    "# Print normalize_movies\n",
    "# print(normalize_movies)"
   ]
  },
  {
   "cell_type": "code",
   "execution_count": 83,
   "id": "f39629ed",
   "metadata": {},
   "outputs": [],
   "source": [
    "import json\n",
    "names = ['Killdeer', 'Chipping Sparrow', 'Cedar Waxwing']\n",
    "bird_facts = ['{\"Size\" : \"Large\", \"Color\": \"Golden brown\", \"Behavior\": \"Runs swiftly along ground\", \"Habitat\": \"Rocky areas\"}', '{\"Size\":\"Small\", \"Color\": \"Gray-white\", \"Behavior\": \"Often in flocks\", \"Habitat\": \"Open woodlands\"}', '{\"Size\":\"Small\", \"Color\": \"Gray-brown\", \"Behavior\": \"Catch insects over open water\", \"Habitat\": \"Parks\"}']\n"
   ]
  },
  {
   "cell_type": "code",
   "execution_count": 93,
   "id": "32dc9658",
   "metadata": {},
   "outputs": [
    {
     "name": "stdout",
     "output_type": "stream",
     "text": [
      "              names                                         bird_facts\n",
      "0          Killdeer  {\"Size\" : \"Large\", \"Color\": \"Golden brown\", \"B...\n",
      "1  Chipping Sparrow  {\"Size\":\"Small\", \"Color\": \"Gray-white\", \"Behav...\n",
      "2     Cedar Waxwing  {\"Size\":\"Small\", \"Color\": \"Gray-brown\", \"Behav...\n"
     ]
    }
   ],
   "source": [
    "# Define birds reading names and bird_facts lists into names and bird_facts columns \n",
    "birds = pd.DataFrame(dict(names=names, bird_facts=bird_facts))\n",
    "\n",
    "# Print birds\n",
    "print(birds)"
   ]
  },
  {
   "cell_type": "code",
   "execution_count": 94,
   "id": "4e51048f",
   "metadata": {},
   "outputs": [
    {
     "name": "stdout",
     "output_type": "stream",
     "text": [
      "0    {'Size': 'Large', 'Color': 'Golden brown', 'Be...\n",
      "1    {'Size': 'Small', 'Color': 'Gray-white', 'Beha...\n",
      "2    {'Size': 'Small', 'Color': 'Gray-brown', 'Beha...\n",
      "Name: bird_facts, dtype: object\n"
     ]
    }
   ],
   "source": [
    "# Apply the function json.loads function to the bird_facts column\n",
    "data_split0 = birds['bird_facts'].apply(json.loads)\n",
    "\n",
    "# Print birds\n",
    "print(data_split0)"
   ]
  },
  {
   "cell_type": "code",
   "execution_count": 95,
   "id": "fa3d8901",
   "metadata": {},
   "outputs": [
    {
     "name": "stdout",
     "output_type": "stream",
     "text": [
      "    Size         Color                       Behavior         Habitat\n",
      "0  Large  Golden brown      Runs swiftly along ground     Rocky areas\n",
      "1  Small    Gray-white                Often in flocks  Open woodlands\n",
      "2  Small    Gray-brown  Catch insects over open water           Parks\n"
     ]
    }
   ],
   "source": [
    "data_split = data_split0.apply(pd.Series)\n",
    "print(data_split)"
   ]
  },
  {
   "cell_type": "code",
   "execution_count": 96,
   "id": "0c9ef69b",
   "metadata": {},
   "outputs": [
    {
     "name": "stdout",
     "output_type": "stream",
     "text": [
      "              names   Size         Color                       Behavior  \\\n",
      "0          Killdeer  Large  Golden brown      Runs swiftly along ground   \n",
      "1  Chipping Sparrow  Small    Gray-white                Often in flocks   \n",
      "2     Cedar Waxwing  Small    Gray-brown  Catch insects over open water   \n",
      "\n",
      "          Habitat  \n",
      "0     Rocky areas  \n",
      "1  Open woodlands  \n",
      "2           Parks  \n"
     ]
    }
   ],
   "source": [
    "# Remove the bird_facts column from birds\n",
    "birds = birds.drop(columns='bird_facts')\n",
    "\n",
    "# Concatenate the columns of birds and data_split\n",
    "birds = pd.concat([birds, data_split], axis=1)\n",
    "\n",
    "print(birds)"
   ]
  },
  {
   "cell_type": "code",
   "execution_count": 100,
   "id": "f0fdafc3",
   "metadata": {},
   "outputs": [
    {
     "name": "stdout",
     "output_type": "stream",
     "text": [
      "              names                                         bird_facts\n",
      "0          Killdeer  {\"Size\" : \"Large\", \"Color\": \"Golden brown\", \"B...\n",
      "1  Chipping Sparrow  {\"Size\":\"Small\", \"Color\": \"Gray-white\", \"Behav...\n",
      "2     Cedar Waxwing  {\"Size\":\"Small\", \"Color\": \"Gray-brown\", \"Behav...\n",
      "\n",
      "[{'Size': 'Large', 'Color': 'Golden brown', 'Behavior': 'Runs swiftly along ground', 'Habitat': 'Rocky areas'}, {'Size': 'Small', 'Color': 'Gray-white', 'Behavior': 'Often in flocks', 'Habitat': 'Open woodlands'}, {'Size': 'Small', 'Color': 'Gray-brown', 'Behavior': 'Catch insects over open water', 'Habitat': 'Parks'}]\n"
     ]
    }
   ],
   "source": [
    "import json\n",
    "names = ['Killdeer', 'Chipping Sparrow', 'Cedar Waxwing']\n",
    "bird_facts = ['{\"Size\" : \"Large\", \"Color\": \"Golden brown\", \"Behavior\": \"Runs swiftly along ground\", \"Habitat\": \"Rocky areas\"}', '{\"Size\":\"Small\", \"Color\": \"Gray-white\", \"Behavior\": \"Often in flocks\", \"Habitat\": \"Open woodlands\"}', '{\"Size\":\"Small\", \"Color\": \"Gray-brown\", \"Behavior\": \"Catch insects over open water\", \"Habitat\": \"Parks\"}']\n",
    "\n",
    "# Define birds reading names and bird_facts lists into names and bird_facts columns \n",
    "birds = pd.DataFrame(dict(names=names, bird_facts=bird_facts))\n",
    "\n",
    "# Print birds_facts\n",
    "print(birds)\n",
    "print()\n",
    "\n",
    "# Apply json.loads to the bird_facts column and transform it to a list\n",
    "birds_facts = birds['bird_facts'].apply(json.loads).to_list()\n",
    "\n",
    "# Print birds_facts\n",
    "print(birds_facts)"
   ]
  },
  {
   "cell_type": "code",
   "execution_count": 99,
   "id": "f246e725",
   "metadata": {},
   "outputs": [
    {
     "name": "stdout",
     "output_type": "stream",
     "text": [
      "[{\"Size\": \"Large\", \"Color\": \"Golden brown\", \"Behavior\": \"Runs swiftly along ground\", \"Habitat\": \"Rocky areas\"}, {\"Size\": \"Small\", \"Color\": \"Gray-white\", \"Behavior\": \"Often in flocks\", \"Habitat\": \"Open woodlands\"}, {\"Size\": \"Small\", \"Color\": \"Gray-brown\", \"Behavior\": \"Catch insects over open water\", \"Habitat\": \"Parks\"}]\n"
     ]
    }
   ],
   "source": [
    "# Convert birds_facts into a JSON \n",
    "birds_dump = json.dumps(birds_facts)\n",
    "\n",
    "# Print birds_dump\n",
    "print(birds_dump)"
   ]
  },
  {
   "cell_type": "code",
   "execution_count": 101,
   "id": "c348d13b",
   "metadata": {},
   "outputs": [
    {
     "name": "stdout",
     "output_type": "stream",
     "text": [
      "    Size         Color                       Behavior         Habitat\n",
      "0  Large  Golden brown      Runs swiftly along ground     Rocky areas\n",
      "1  Small    Gray-white                Often in flocks  Open woodlands\n",
      "2  Small    Gray-brown  Catch insects over open water           Parks\n"
     ]
    }
   ],
   "source": [
    "# Read the JSON birds_dump into a DataFrame \n",
    "birds_df = pd.read_json(birds_dump)\n",
    "\n",
    "# Print birds_df\n",
    "print(birds_df)"
   ]
  },
  {
   "cell_type": "code",
   "execution_count": 103,
   "id": "705899d8",
   "metadata": {},
   "outputs": [
    {
     "name": "stdout",
     "output_type": "stream",
     "text": [
      "              names   Size         Color                       Behavior  \\\n",
      "0          Killdeer  Large  Golden brown      Runs swiftly along ground   \n",
      "1  Chipping Sparrow  Small    Gray-white                Often in flocks   \n",
      "2     Cedar Waxwing  Small    Gray-brown  Catch insects over open water   \n",
      "\n",
      "          Habitat  \n",
      "0     Rocky areas  \n",
      "1  Open woodlands  \n",
      "2           Parks  \n"
     ]
    }
   ],
   "source": [
    "# Concatenate the 'names' column of birds with birds_df \n",
    "birds_final = pd.concat([birds['names'], birds_df], axis=1)\n",
    "\n",
    "print(birds_final)"
   ]
  },
  {
   "cell_type": "code",
   "execution_count": null,
   "id": "89397aa1",
   "metadata": {},
   "outputs": [],
   "source": []
  }
 ],
 "metadata": {
  "kernelspec": {
   "display_name": "Python 3 (ipykernel)",
   "language": "python",
   "name": "python3"
  },
  "language_info": {
   "codemirror_mode": {
    "name": "ipython",
    "version": 3
   },
   "file_extension": ".py",
   "mimetype": "text/x-python",
   "name": "python",
   "nbconvert_exporter": "python",
   "pygments_lexer": "ipython3",
   "version": "3.10.4"
  }
 },
 "nbformat": 4,
 "nbformat_minor": 5
}
