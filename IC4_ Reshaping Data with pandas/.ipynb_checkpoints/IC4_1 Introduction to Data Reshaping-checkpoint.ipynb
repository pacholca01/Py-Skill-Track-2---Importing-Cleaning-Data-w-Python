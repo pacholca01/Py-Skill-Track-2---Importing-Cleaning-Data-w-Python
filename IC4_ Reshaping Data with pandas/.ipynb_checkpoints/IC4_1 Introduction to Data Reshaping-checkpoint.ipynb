{
 "cells": [
  {
   "cell_type": "markdown",
   "id": "392bb3b3",
   "metadata": {},
   "source": [
    "#### 1 Introduction to Data Reshaping\n",
    "Let's start by understanding the concept of wide and long formats and the advantages of using each of them. You’ll then learn how to pivot data from long to a wide format, and get summary statistics from a large DataFrame."
   ]
  },
  {
   "cell_type": "markdown",
   "id": "2b7521a2",
   "metadata": {},
   "source": [
    "##### The long and the wide\n",
    "As part of a data scientist job interview, you need to answer some technical questions. One of the challenges is to show the differences between long and wide data formats.\n",
    "\n",
    "##### Flipping players\n",
    "Congratulations! You got the data scientist job! In your first project, you will work with the fifa_players dataset. It contains data of the players included in the last version of the video game. Before you start to do any analysis, you need to clean and format your dataset.\n",
    "\n",
    "As a first step, you need to explore your dataset and reshape it using basic steps, such as setting different indices, filtering columns and flipping the DataFrame. You would like to see if that is enough for further analysis.\n",
    "\n",
    "The fifa_players dataset is available for you. The pandas module will be preloaded as pd in your session throughout all the exercises of the course."
   ]
  },
  {
   "cell_type": "code",
   "execution_count": 3,
   "id": "101d04c0",
   "metadata": {},
   "outputs": [
    {
     "name": "stdout",
     "output_type": "stream",
     "text": [
      "                name  age  height  weight nationality                 club\n",
      "0       Lionel Messi   32     170      72   Argentina         FC Barcelona\n",
      "1  Cristiano Ronaldo   34     187      83    Portugal             Juventus\n",
      "2    Neymar da Silva   27     175      68      Brazil  Paris Saint-Germain\n",
      "3          Jan Oblak   26     188      87    Slovenia      Atlético Madrid\n",
      "4        Eden Hazard   28     175      74     Belgium          Real Madrid\n",
      "                   age  height  weight nationality                 club\n",
      "name                                                                   \n",
      "Lionel Messi        32     170      72   Argentina         FC Barcelona\n",
      "Cristiano Ronaldo   34     187      83    Portugal             Juventus\n",
      "Neymar da Silva     27     175      68      Brazil  Paris Saint-Germain\n",
      "Jan Oblak           26     188      87    Slovenia      Atlético Madrid\n",
      "Eden Hazard         28     175      74     Belgium          Real Madrid\n"
     ]
    }
   ],
   "source": [
    "import pandas as pd\n",
    "\n",
    "filename = 'fifa_players.csv'\n",
    "fifa_players = pd.read_csv(filename, index_col = 0)\n",
    "\n",
    "print(fifa_players.head())\n",
    "\n",
    "# Set name as index\n",
    "fifa_transpose = fifa_players.set_index('name')\n",
    "\n",
    "# Print fifa_transpose\n",
    "print(fifa_transpose)"
   ]
  },
  {
   "cell_type": "code",
   "execution_count": 4,
   "id": "82224d44",
   "metadata": {},
   "outputs": [
    {
     "name": "stdout",
     "output_type": "stream",
     "text": [
      "                   height  weight\n",
      "name                             \n",
      "Lionel Messi          170      72\n",
      "Cristiano Ronaldo     187      83\n",
      "Neymar da Silva       175      68\n",
      "Jan Oblak             188      87\n",
      "Eden Hazard           175      74\n"
     ]
    }
   ],
   "source": [
    "# Modify the DataFrame to keep only height and weight columns\n",
    "fifa_transpose = fifa_players.set_index('name')[['height','weight']]\n",
    "\n",
    "# Print fifa_transpose\n",
    "print(fifa_transpose)"
   ]
  },
  {
   "cell_type": "code",
   "execution_count": 5,
   "id": "7953e5f3",
   "metadata": {},
   "outputs": [
    {
     "name": "stdout",
     "output_type": "stream",
     "text": [
      "name    Lionel Messi  Cristiano Ronaldo  Neymar da Silva  Jan Oblak  \\\n",
      "height           170                187              175        188   \n",
      "weight            72                 83               68         87   \n",
      "\n",
      "name    Eden Hazard  \n",
      "height          175  \n",
      "weight           74  \n"
     ]
    }
   ],
   "source": [
    "# Change the DataFrame so rows become columns and vice versa\n",
    "fifa_transpose = fifa_players.set_index('name')[['height', 'weight']].transpose()\n",
    "\n",
    "# Print fifa_transpose\n",
    "print(fifa_transpose)"
   ]
  },
  {
   "cell_type": "markdown",
   "id": "0195c450",
   "metadata": {},
   "source": [
    "##### Dribbling the pivot method\n",
    "It's time to keep working with the fifa_players dataset. After you explored the dataset, you realized the dataset contains player scores on different movements: shooting, dribbling, and passing. There are attacking scores as well as overall scores.\n",
    "\n",
    "The goal of the project is to analyze the scores to create an optimized team, so you decide to explore which score is better. But the current data is in a long format. You'll need to to pivot your DataFrame in different ways to discover a pattern.\n",
    "\n",
    "The fifa_players dataset is available for you. Make sure to examine it in the console!\n",
    "\n"
   ]
  },
  {
   "cell_type": "code",
   "execution_count": 6,
   "id": "d920054e",
   "metadata": {},
   "outputs": [
    {
     "name": "stdout",
     "output_type": "stream",
     "text": [
      "                name   movement  overall  attacking\n",
      "0           L. Messi   shooting       92         70\n",
      "1  Cristiano Ronaldo   shooting       93         89\n",
      "2           L. Messi    passing       92         92\n",
      "3  Cristiano Ronaldo    passing       82         83\n",
      "4           L. Messi  dribbling       96         88\n"
     ]
    }
   ],
   "source": [
    "# https://pandas.pydata.org/pandas-docs/stable/reference/api/pandas.pivot_table.html\n",
    "\n",
    "filename = \"fifa_movements.csv\"\n",
    "fifa_players = pd.read_csv(filename, index_col = 0)\n",
    "\n",
    "print(fifa_players.head())"
   ]
  },
  {
   "cell_type": "code",
   "execution_count": 16,
   "id": "647994fb",
   "metadata": {},
   "outputs": [
    {
     "name": "stdout",
     "output_type": "stream",
     "text": [
      "movement           dribbling  passing  shooting\n",
      "name                                           \n",
      "Cristiano Ronaldo         89       82        93\n",
      "L. Messi                  96       92        92\n",
      "\n",
      "movement           dribbling  passing  shooting\n",
      "name                                           \n",
      "Cristiano Ronaldo         84       83        89\n",
      "L. Messi                  88       92        70\n",
      "\n",
      "name       Cristiano Ronaldo  L. Messi\n",
      "movement                              \n",
      "dribbling                 89        96\n",
      "passing                   82        92\n",
      "shooting                  93        92\n"
     ]
    }
   ],
   "source": [
    "fifa_overall = fifa_players.pivot(values='overall', index='name', columns='movement' )\n",
    "print(fifa_overall)\n",
    "print()\n",
    "\n",
    "fifa_attacking = fifa_players.pivot(values='attacking', index='name', columns='movement' )\n",
    "print(fifa_attacking)\n",
    "print()\n",
    "\n",
    "fifa_names = fifa_players.pivot(values='overall', index='movement', columns='name' )\n",
    "print(fifa_names)"
   ]
  },
  {
   "cell_type": "code",
   "execution_count": 17,
   "id": "b3e35d20",
   "metadata": {},
   "outputs": [
    {
     "name": "stdout",
     "output_type": "stream",
     "text": [
      "                    overall                  attacking                 \n",
      "movement          dribbling passing shooting dribbling passing shooting\n",
      "name                                                                   \n",
      "Cristiano Ronaldo        89      82       93        84      83       89\n",
      "L. Messi                 96      92       92        88      92       70\n",
      "\n",
      "                    overall                  attacking                 \n",
      "movement          dribbling passing shooting dribbling passing shooting\n",
      "name                                                                   \n",
      "Cristiano Ronaldo        89      82       93        84      83       89\n",
      "L. Messi                 96      92       92        88      92       70\n"
     ]
    }
   ],
   "source": [
    "fifa_over_attack = fifa_players.pivot(values=['overall','attacking'], index='name', columns='movement' )\n",
    "print(fifa_over_attack)\n",
    "print()\n",
    "\n",
    "fifa_all = fifa_players.pivot(index='name', columns='movement' )\n",
    "print(fifa_all)"
   ]
  },
  {
   "cell_type": "markdown",
   "id": "22f45cc0",
   "metadata": {},
   "source": [
    "##### Replay that last move!\n",
    "Amazing! You were able to pivot all columns of fifa_players. You saw that the overall and attacking scores are different and decided to extend your analysis to more players. However, you found an error.\n",
    "\n",
    "You suspect that there are different scores for the same index and column values. You remember that using the .pivot() method for all the columns does not work in that case.\n",
    "\n",
    "First, you decide to delete the problematic row so you can reshape the DataFrame afterwards.\n",
    "\n",
    "The fifa_players dataset is available for you. Make sure you examine the dataset into the console and notice the repeated rows."
   ]
  },
  {
   "cell_type": "code",
   "execution_count": 35,
   "id": "dd745dbf",
   "metadata": {},
   "outputs": [
    {
     "name": "stdout",
     "output_type": "stream",
     "text": [
      "                name   movement  overall  attacking\n",
      "0           L. Messi   shooting       92         70\n",
      "1  Cristiano Ronaldo   shooting       93         89\n",
      "2           L. Messi    passing       92         92\n",
      "3  Cristiano Ronaldo    passing       82         83\n",
      "4           L. Messi  dribbling       96         88\n",
      "5  Cristiano Ronaldo  dribbling       89         84\n",
      "\n",
      "                name   movement  overall  attacking\n",
      "0           L. Messi   shooting       92         70\n",
      "1  Cristiano Ronaldo   shooting       93         89\n",
      "2           L. Messi    passing       92         92\n",
      "3  Cristiano Ronaldo    passing       82         83\n",
      "5  Cristiano Ronaldo  dribbling       89         84\n",
      "\n",
      "                    overall                  attacking                 \n",
      "movement          dribbling passing shooting dribbling passing shooting\n",
      "name                                                                   \n",
      "Cristiano Ronaldo      89.0    82.0     93.0      84.0    83.0     89.0\n",
      "L. Messi                NaN    92.0     92.0       NaN    92.0     70.0\n"
     ]
    }
   ],
   "source": [
    "print(fifa_players)\n",
    "print()\n",
    "\n",
    "# Drop the fifth row to delete all repeated rows\n",
    "fifa_no_rep = fifa_players.drop(4, axis=0)\n",
    "\n",
    "fifa_pivot = fifa_no_rep.pivot(index='name', columns='movement') \n",
    "\n",
    "# Print fifa_pivot\n",
    "print(fifa_no_rep)\n",
    "\n",
    "print()\n",
    "print(fifa_pivot)"
   ]
  },
  {
   "cell_type": "code",
   "execution_count": 33,
   "id": "7f63d84e",
   "metadata": {},
   "outputs": [
    {
     "name": "stdout",
     "output_type": "stream",
     "text": [
      "    movement  overall  attacking\n",
      "0   shooting       92         70\n",
      "1   shooting       93         89\n",
      "2    passing       92         92\n",
      "3    passing       82         83\n",
      "4  dribbling       96         88\n",
      "5  dribbling       89         84\n"
     ]
    }
   ],
   "source": [
    "fifa_no_rep = fifa_players.drop('name', axis=1)\n",
    "\n",
    "# Print fifa_pivot\n",
    "print(fifa_no_rep)"
   ]
  },
  {
   "cell_type": "markdown",
   "id": "a5c4e1ac",
   "metadata": {},
   "source": [
    "##### Reviewing the moves\n",
    "Wow! You have now learned about pivot tables. In the last analysis that you did, you encountered a DataFrame that had non-unique index/column pairs. In order to pivot your DataFrame, you wrote code to drop the last row, and then reshaped it.\n",
    "\n",
    "In this exercise, you will modify the code using pivot tables and compare it with your strategy of using the pivot method.\n",
    "\n",
    "The fifa_players dataset is available for you."
   ]
  },
  {
   "cell_type": "code",
   "execution_count": 37,
   "id": "e3f6ef25",
   "metadata": {},
   "outputs": [
    {
     "name": "stdout",
     "output_type": "stream",
     "text": [
      "                    overall                  attacking                 \n",
      "movement          dribbling passing shooting dribbling passing shooting\n",
      "name                                                                   \n",
      "Cristiano Ronaldo      89.0    82.0     93.0      84.0    83.0     89.0\n",
      "L. Messi                NaN    92.0     92.0       NaN    92.0     70.0\n",
      "\n",
      "                  attacking                    overall                 \n",
      "movement          dribbling passing shooting dribbling passing shooting\n",
      "name                                                                   \n",
      "Cristiano Ronaldo        84      83       89        89      82       93\n",
      "L. Messi                 88      92       70        96      92       92\n"
     ]
    }
   ],
   "source": [
    "# Discard the fifth row to delete all repeated rows\n",
    "fifa_drop = fifa_players.drop(4, axis=0)\n",
    "\n",
    "# Use pivot method to get all scores by name and movement\n",
    "fifa_pivot = fifa_drop.pivot(index='name', columns='movement') \n",
    "\n",
    "# Print fifa_pivot\n",
    "print(fifa_pivot)  \n",
    "print()\n",
    "\n",
    "# Use pivot table to get all scores by name and movement\n",
    "fifa_pivot_table = fifa_players.pivot_table(index='name', columns='movement', aggfunc='mean')\n",
    "\n",
    "# Print fifa_pivot_table\n",
    "print(fifa_pivot_table)"
   ]
  },
  {
   "cell_type": "markdown",
   "id": "36bb9684",
   "metadata": {},
   "source": [
    "##### Exploring the big match\n",
    "Now, it's time to continue working on the fifa_players exploration. Your next task is to examine the characteristics of players belonging to different teams.\n",
    "\n",
    "Particularly, you are interested in players from two big rival teams: Barcelona and Real Madrid.\n",
    "\n",
    "You decide that .pivot_table() is the best tool to get your results since it's an easy way to generate a report. Also, it allows you to define aggregation functions and work with multiple indices.\n",
    "\n",
    "The fifa_players dataset is available for you. _Make sure you explore it. Check which data it contains from the players playing for each team."
   ]
  },
  {
   "cell_type": "code",
   "execution_count": 41,
   "id": "7cb152c8",
   "metadata": {},
   "outputs": [
    {
     "name": "stdout",
     "output_type": "stream",
     "text": [
      "club         FC Barcelona  Real Madrid\n",
      "nationality                           \n",
      "Brazil          25.666667         23.5\n",
      "Croatia         31.000000         33.0\n",
      "France          23.600000         27.0\n",
      "Germany         27.000000         29.0\n",
      "Uruguay         32.000000         20.0\n",
      "\n",
      "club         FC Barcelona  Real Madrid\n",
      "nationality                           \n",
      "Brazil                190          186\n",
      "Croatia               184          172\n",
      "France                190          191\n",
      "Germany               187          183\n",
      "Uruguay               182          182\n",
      "\n",
      "club         FC Barcelona  Real Madrid  All\n",
      "nationality                                \n",
      "Brazil                  3            6    9\n",
      "Croatia                 1            1    2\n",
      "France                  5            3    8\n",
      "Germany                 1            1    2\n",
      "Uruguay                 1            1    2\n",
      "All                    11           12   23\n",
      "\n"
     ]
    }
   ],
   "source": [
    "filename = \"fifa_big_match.csv\"\n",
    "fifa_players = pd.read_csv(filename, index_col = 0)\n",
    "\n",
    "# Use pivot table to display mean age of players by club and nationality \n",
    "mean_age_fifa = fifa_players.pivot_table(index='nationality', columns='club', values='age', aggfunc='mean')\n",
    "\n",
    "# Print mean_age_fifa\n",
    "print(mean_age_fifa)\n",
    "print()\n",
    "\n",
    "# Use pivot table to display max height of any player by club and nationality\n",
    "tall_players_fifa = fifa_players.pivot_table(index='nationality', columns='club', values='height', aggfunc='max')\n",
    "\n",
    "# Print tall_players_fifa\n",
    "print(tall_players_fifa)\n",
    "print()\n",
    "\n",
    "players_country = fifa_players.pivot_table(index='nationality', columns='club', values='name', aggfunc='count', margins=True)\n",
    "\n",
    "# Print tall_players_fifa\n",
    "print(players_country)\n",
    "print()"
   ]
  },
  {
   "cell_type": "markdown",
   "id": "822edbc4",
   "metadata": {},
   "source": [
    "##### The tallest and the heaviest\n",
    "You will continue your exploration of characteristics of players in fifa_players belonging to two teams: FC Barcelona and Real Madrid. As your last task, you are interested in exploring the maximum height and weight separated by teams and nationality. You will also compare two years, 2000 and 2010.\n",
    "\n",
    "You have two columns that you want to set as an index, so you will need to use pivot_table().\n",
    "\n",
    "The fifa_players dataset is available for you. It contains data about the club, nationality, height, weight, and year of the players playing for each team."
   ]
  },
  {
   "cell_type": "code",
   "execution_count": 44,
   "id": "4a226f24",
   "metadata": {},
   "outputs": [
    {
     "name": "stdout",
     "output_type": "stream",
     "text": [
      "                         height           weight         \n",
      "year                       2000 2010  All   2000 2010 All\n",
      "nationality club                                         \n",
      "Croatia     FC Barcelona    184  185  185     78   76  78\n",
      "            Real Madrid     172  173  173     66   68  68\n",
      "Germany     FC Barcelona    187  189  189     85   87  87\n",
      "            Real Madrid     183  185  185     76   77  77\n",
      "All                         187  189  189     85   87  87\n",
      "\n"
     ]
    }
   ],
   "source": [
    "filename = \"fifa_years.csv\"\n",
    "fifa_players = pd.read_csv(filename, index_col = 0)\n",
    "\n",
    "fifa_mean = fifa_players.pivot_table(index=['nationality','club'], columns='year' ,aggfunc='max', margins=True)\n",
    "\n",
    "# Print tall_players_fifa\n",
    "print(fifa_mean)\n",
    "print()\n"
   ]
  }
 ],
 "metadata": {
  "kernelspec": {
   "display_name": "Python 3 (ipykernel)",
   "language": "python",
   "name": "python3"
  },
  "language_info": {
   "codemirror_mode": {
    "name": "ipython",
    "version": 3
   },
   "file_extension": ".py",
   "mimetype": "text/x-python",
   "name": "python",
   "nbconvert_exporter": "python",
   "pygments_lexer": "ipython3",
   "version": "3.10.4"
  }
 },
 "nbformat": 4,
 "nbformat_minor": 5
}
