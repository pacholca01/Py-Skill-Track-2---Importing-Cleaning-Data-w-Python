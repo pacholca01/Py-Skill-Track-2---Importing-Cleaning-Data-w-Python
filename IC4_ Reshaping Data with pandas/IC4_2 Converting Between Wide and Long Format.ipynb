{
 "cells": [
  {
   "cell_type": "markdown",
   "id": "668bf782",
   "metadata": {},
   "source": [
    "#### 2 Converting Between Wide and Long Format\n",
    "\n",
    "Master the technique of reshaping DataFrames from wide to long format. In this chapter, you'll learn how to use the melting method and wide to long function before discovering how to handle string columns by concatenating or splitting them.\n",
    "\n",
    "##### Gothic times\n",
    "You have a new project! Your boss has asked you to perform an analysis with a dataset of books. You have several tasks to complete. Your first task is to analyze Gothic fiction books.\n",
    "\n",
    "The dataset books_gothic is in a wide format. Any analysis will require you to reshape the data into a long format. To that aim, you will melt your dataset. You will reshape the dataset using several variables as identifiers to decide which is the best format.\n",
    "\n",
    "The books_gothic dataset is available for you. Make sure to examine it in the console!\n",
    "\n"
   ]
  },
  {
   "cell_type": "code",
   "execution_count": 4,
   "id": "b041a18e",
   "metadata": {},
   "outputs": [
    {
     "name": "stdout",
     "output_type": "stream",
     "text": [
      "                         title      variable              value\n",
      "0            Wuthering Heights       authors       Emily Bronte\n",
      "1                 Frankenstein       authors       Mary Shelley\n",
      "2   The Picture of Dorian Gray       authors        Oscar Wilde\n",
      "3            Wuthering Heights     num_pages                322\n",
      "4                 Frankenstein     num_pages                189\n",
      "5   The Picture of Dorian Gray     num_pages                187\n",
      "6            Wuthering Heights  rating_count               2155\n",
      "7                 Frankenstein  rating_count               2452\n",
      "8   The Picture of Dorian Gray  rating_count               3342\n",
      "9            Wuthering Heights        rating               3.85\n",
      "10                Frankenstein        rating               4.31\n",
      "11  The Picture of Dorian Gray        rating               4.15\n",
      "12           Wuthering Heights     publisher      Penguin Books\n",
      "13                Frankenstein     publisher  Kaplan Publishing\n",
      "14  The Picture of Dorian Gray     publisher            Pearson\n"
     ]
    }
   ],
   "source": [
    "import pandas as pd\n",
    "\n",
    "filename = 'books2.csv'\n",
    "books_gothic = pd.read_csv(filename, index_col=0)\n",
    "\n",
    "\n",
    "# Melt books_gothic using the title column as identifier \n",
    "gothic_melted = books_gothic.melt(id_vars='title')\n",
    "\n",
    "# Print gothic_melted\n",
    "print(gothic_melted)"
   ]
  },
  {
   "cell_type": "code",
   "execution_count": 5,
   "id": "b080a576",
   "metadata": {},
   "outputs": [
    {
     "name": "stdout",
     "output_type": "stream",
     "text": [
      "                        title       authors          publisher      variable  \\\n",
      "0           Wuthering Heights  Emily Bronte      Penguin Books     num_pages   \n",
      "1                Frankenstein  Mary Shelley  Kaplan Publishing     num_pages   \n",
      "2  The Picture of Dorian Gray   Oscar Wilde            Pearson     num_pages   \n",
      "3           Wuthering Heights  Emily Bronte      Penguin Books  rating_count   \n",
      "4                Frankenstein  Mary Shelley  Kaplan Publishing  rating_count   \n",
      "5  The Picture of Dorian Gray   Oscar Wilde            Pearson  rating_count   \n",
      "6           Wuthering Heights  Emily Bronte      Penguin Books        rating   \n",
      "7                Frankenstein  Mary Shelley  Kaplan Publishing        rating   \n",
      "8  The Picture of Dorian Gray   Oscar Wilde            Pearson        rating   \n",
      "\n",
      "     value  \n",
      "0   322.00  \n",
      "1   189.00  \n",
      "2   187.00  \n",
      "3  2155.00  \n",
      "4  2452.00  \n",
      "5  3342.00  \n",
      "6     3.85  \n",
      "7     4.31  \n",
      "8     4.15  \n"
     ]
    }
   ],
   "source": [
    "# Melt books_gothic using the title, authors, and publisher columns as identifier\n",
    "gothic_melted_new = books_gothic.melt(id_vars=['title','authors', 'publisher'])\n",
    "\n",
    "# Print gothic_melted_new\n",
    "print(gothic_melted_new)"
   ]
  },
  {
   "cell_type": "markdown",
   "id": "97171c1e",
   "metadata": {},
   "source": [
    "##### Rating is not everything\n",
    "Your first exploration of the books_gothic dataset was successful. Now, your next task is to perform a more detailed analysis. You need to reshape your DataFrame again. This time, you don't want to use all of your variables.\n",
    "\n",
    "To that aim, you will melt your DataFrame, taking several approaches using different columns as identifiers and value variables.\n",
    "\n",
    "The same books_gothic dataset you used before is available for you. It contains data about the title, author, number_pages, rating, rating_count, and publisher of each book. Make sure to examine it in the console!"
   ]
  },
  {
   "cell_type": "code",
   "execution_count": 8,
   "id": "6ef194b8",
   "metadata": {},
   "outputs": [
    {
     "name": "stdout",
     "output_type": "stream",
     "text": [
      "                        title       authors   variable              value\n",
      "0           Wuthering Heights  Emily Bronte  publisher      Penguin Books\n",
      "1                Frankenstein  Mary Shelley  publisher  Kaplan Publishing\n",
      "2  The Picture of Dorian Gray   Oscar Wilde  publisher            Pearson\n",
      "\n",
      "                        title      variable    value\n",
      "0           Wuthering Heights        rating     3.85\n",
      "1                Frankenstein        rating     4.31\n",
      "2  The Picture of Dorian Gray        rating     4.15\n",
      "3           Wuthering Heights  rating_count  2155.00\n",
      "4                Frankenstein  rating_count  2452.00\n",
      "5  The Picture of Dorian Gray  rating_count  3342.00\n",
      "\n",
      "                        title       authors      variable    value\n",
      "0           Wuthering Heights  Emily Bronte        rating     3.85\n",
      "1                Frankenstein  Mary Shelley        rating     4.31\n",
      "2  The Picture of Dorian Gray   Oscar Wilde        rating     4.15\n",
      "3           Wuthering Heights  Emily Bronte  rating_count  2155.00\n",
      "4                Frankenstein  Mary Shelley  rating_count  2452.00\n",
      "5  The Picture of Dorian Gray   Oscar Wilde  rating_count  3342.00\n"
     ]
    }
   ],
   "source": [
    "# Define a new DataFrame by melting the publisher column using the title and authors columns as identifier variables.\n",
    "# Melt publisher column using title and authors as identifiers\n",
    "publisher_melted = books_gothic.melt(id_vars=['title','authors'], value_vars='publisher')\n",
    "\n",
    "# Print publisher_melted\n",
    "print(publisher_melted)\n",
    "print()\n",
    "\n",
    "# Melt the rating and rating_count columns of books_gothic DataFrame using the title column as an identifier variable.\n",
    "# Melt rating and rating_count columns using the title as identifier\n",
    "rating_melted = books_gothic.melt(id_vars=['title'], value_vars=['rating', 'rating_count'])\n",
    "\n",
    "# Print rating_melted\n",
    "print(rating_melted)\n",
    "print()\n",
    "\n",
    "# Melt the rating and rating_count columns of book_gothic using the title and authors columns as identifier variables.\n",
    "# Melt rating and rating_count columns using title and authors as identifier\n",
    "books_melted = books_gothic.melt(id_vars=['title','authors'], value_vars=['rating', 'rating_count'])\n",
    "\n",
    "# Print books_melted\n",
    "print(books_melted)\n",
    "\n"
   ]
  },
  {
   "cell_type": "markdown",
   "id": "1caf6a8d",
   "metadata": {},
   "source": [
    "##### How is Frankenstein, Dorian Gray?\n",
    "You are satisfied with the way you reshaped the books_gothic DataFrame, however, you would like to finish your work by naming the newly-created columns. This will help you clarify what the variables and values are.\n",
    "\n",
    "You remember that .melt() allows you to do that. In order to achieve your goal, you will reshape your DataFrame in three steps.\n",
    "\n",
    "The same books_gothic dataset you used before is available for you. It contains data about the title, author, number_pages, rating, rating_count, and publisher of each book. Make sure to examine it in the console!\n"
   ]
  },
  {
   "cell_type": "code",
   "execution_count": 9,
   "id": "8d1d62e8",
   "metadata": {},
   "outputs": [
    {
     "name": "stdout",
     "output_type": "stream",
     "text": [
      "                        title       authors          publisher       feature  \\\n",
      "0           Wuthering Heights  Emily Bronte      Penguin Books        rating   \n",
      "1                Frankenstein  Mary Shelley  Kaplan Publishing        rating   \n",
      "2  The Picture of Dorian Gray   Oscar Wilde            Pearson        rating   \n",
      "3           Wuthering Heights  Emily Bronte      Penguin Books  rating_count   \n",
      "4                Frankenstein  Mary Shelley  Kaplan Publishing  rating_count   \n",
      "5  The Picture of Dorian Gray   Oscar Wilde            Pearson  rating_count   \n",
      "\n",
      "    number  \n",
      "0     3.85  \n",
      "1     4.31  \n",
      "2     4.15  \n",
      "3  2155.00  \n",
      "4  2452.00  \n",
      "5  3342.00  \n"
     ]
    }
   ],
   "source": [
    "# Define a new books_ratings DataFrame by melting the rating and rating_count columns using the title, authors, and publisher as identifier variables.\n",
    "# Inside the .melt() call, assign the name 'feature' to the column that contains the variable names.\n",
    "# Inside the .melt() call, assign the name 'number' to the resulting value column.\n",
    "# Assign the name feature to the new variable column\n",
    "books_ratings = books_gothic.melt(id_vars=['title', 'authors', 'publisher'], \n",
    "                                  value_vars=['rating', 'rating_count'], \n",
    "                                  var_name='feature', \n",
    "                                  value_name='number')\n",
    "\n",
    "# Print books_ratings\n",
    "print(books_ratings)\n",
    "\n"
   ]
  },
  {
   "cell_type": "markdown",
   "id": "4e8e0679",
   "metadata": {},
   "source": [
    "##### The golden age\n",
    "In this exercise, you'll continue working on the book project. Now, you'll analyze books from the Golden Age.\n",
    "\n",
    "Upon inspection, you discovered that the dataset golden_age needs reshaping. You noticed that some column names start with the same prefix (stub names) and identified other columns to use as unique IDs.\n",
    "\n",
    "For that reason, you'll reshape your DataFrame in several ways. Use the function wide_to_long() along with each instruction.\n",
    "\n",
    "The golden_age dataset is available for you. It contains the title, authors, and data about the universal identifier ISBN and prefix for countries of each book."
   ]
  },
  {
   "cell_type": "code",
   "execution_count": 14,
   "id": "60349a51",
   "metadata": {},
   "outputs": [
    {
     "name": "stdout",
     "output_type": "stream",
     "text": [
      "               title              authors         isbn13      isbn10  \\\n",
      "0   The Great Gatsby  F. Scott Fitzgerald  9780060098919  1572702567   \n",
      "1  The Short Stories     Ernest Hemingway  9780684837864   684837862   \n",
      "2  To the Lighthouse       Virginia Woolf  9780156030472   156030470   \n",
      "\n",
      "   prefix13  prefix10  \n",
      "0       978         1  \n",
      "1       978         0  \n",
      "2       978         0  \n",
      "-\n",
      "\n",
      "                           prefix10              authors  prefix13  \\\n",
      "title             version                                            \n",
      "The Great Gatsby  13              1  F. Scott Fitzgerald       978   \n",
      "The Short Stories 13              0     Ernest Hemingway       978   \n",
      "To the Lighthouse 13              0       Virginia Woolf       978   \n",
      "The Great Gatsby  10              1  F. Scott Fitzgerald       978   \n",
      "The Short Stories 10              0     Ernest Hemingway       978   \n",
      "To the Lighthouse 10              0       Virginia Woolf       978   \n",
      "\n",
      "                                    isbn  \n",
      "title             version                 \n",
      "The Great Gatsby  13       9780060098919  \n",
      "The Short Stories 13       9780684837864  \n",
      "To the Lighthouse 13       9780156030472  \n",
      "The Great Gatsby  10          1572702567  \n",
      "The Short Stories 10           684837862  \n",
      "To the Lighthouse 10           156030470  \n",
      "-\n",
      "\n",
      "                                                      isbn13      isbn10  \\\n",
      "title             authors             version                              \n",
      "The Great Gatsby  F. Scott Fitzgerald 13       9780060098919  1572702567   \n",
      "                                      10       9780060098919  1572702567   \n",
      "The Short Stories Ernest Hemingway    13       9780684837864   684837862   \n",
      "                                      10       9780684837864   684837862   \n",
      "To the Lighthouse Virginia Woolf      13       9780156030472   156030470   \n",
      "                                      10       9780156030472   156030470   \n",
      "\n",
      "                                               prefix  \n",
      "title             authors             version          \n",
      "The Great Gatsby  F. Scott Fitzgerald 13          978  \n",
      "                                      10            1  \n",
      "The Short Stories Ernest Hemingway    13          978  \n",
      "                                      10            0  \n",
      "To the Lighthouse Virginia Woolf      13          978  \n",
      "                                      10            0  \n",
      "-\n",
      "\n",
      "                                                        isbn  prefix\n",
      "title             authors             version                       \n",
      "The Great Gatsby  F. Scott Fitzgerald 13       9780060098919     978\n",
      "                                      10          1572702567       1\n",
      "The Short Stories Ernest Hemingway    13       9780684837864     978\n",
      "                                      10           684837862       0\n",
      "To the Lighthouse Virginia Woolf      13       9780156030472     978\n",
      "                                      10           156030470       0\n",
      "\n"
     ]
    }
   ],
   "source": [
    "filename = 'golden_age.csv'\n",
    "golden_age = pd.read_csv(filename, index_col=0)\n",
    "\n",
    "print(golden_age)\n",
    "print('-')\n",
    "print()\n",
    "\n",
    "# Reshape wide to long using title as index and version as new name, and extracting isbn prefix \n",
    "# Set title as the unique index. Extract the prefix from isbn10 and isbn13. Name the new variable created version.\n",
    "# g(df, stubnames, i, j, sep='', suffix='\\\\d+')[source]¶\n",
    "isbn_long = pd.wide_to_long(golden_age, \n",
    "                    stubnames='isbn', \n",
    "                    i='title', \n",
    "                    j='version')\n",
    "\n",
    "# Print isbn_long\n",
    "print(isbn_long)\n",
    "print('-')\n",
    "print()\n",
    "\n",
    "# Set title and authors as the index. Get the prefix from prefix10 and prefix13. Name the new variable version.\n",
    "# Reshape wide to long using title and authors as index and version as new name, and prefix as wide column prefix\n",
    "prefix_long = pd.wide_to_long(golden_age, \n",
    "                    stubnames='prefix', \n",
    "                    i=['title', 'authors'],\n",
    "                    j='version')\n",
    "\n",
    "# Print prefix_long\n",
    "print(prefix_long)\n",
    "print('-')\n",
    "print()\n",
    "\n",
    "# Set title and authors as unique indexes. Extract the prefixes isbn and prefix. Name the new variable version.\n",
    "# Reshape wide to long using title and authors as index and version as new name, and prefix and isbn as wide column prefixes\n",
    "all_long = pd.wide_to_long(golden_age, \n",
    "                    stubnames=['isbn', 'prefix'],\n",
    "                    i=['title', 'authors'],\n",
    "                    j='version')\n",
    "\n",
    "# Print all_long\n",
    "print(all_long)\n",
    "print()"
   ]
  },
  {
   "cell_type": "markdown",
   "id": "4a4afff3",
   "metadata": {},
   "source": [
    "##### Decrypting the code\n",
    "You are doing a great job on the book project! Your boss encouraged you to do an analysis using books written by Dan Brown.\n",
    "\n",
    "You explored the dataset books_brown and it needs reshaping. Again, you identified several columns to use as unique IDs and realized something different about the columns to group. Their name starts with a prefix, but this time, you identified a suffix and a separation element.\n",
    "\n",
    "The books_brown dataset is available for you. It contains the title, authors, and data about language_code, language_name, publisher_code, and publisher_name of each book. Make sure to examine it in the console!"
   ]
  },
  {
   "cell_type": "code",
   "execution_count": 17,
   "id": "92ac902d",
   "metadata": {},
   "outputs": [
    {
     "name": "stdout",
     "output_type": "stream",
     "text": [
      "                  title     author  language_code language_name  \\\n",
      "0     The Da Vinci Code  Dan Brown              0       english   \n",
      "1       Angels & Demons  Dan Brown              0       english   \n",
      "2  La fortaleza digital  Dan Brown             84       spanish   \n",
      "\n",
      "   publisher_code publisher_name  \n",
      "0              12   Random House  \n",
      "1              34   Pocket Books  \n",
      "2              43        Umbriel  \n",
      "\n",
      "                                    language     publisher\n",
      "author    title                code                       \n",
      "Dan Brown The Da Vinci Code    code        0            12\n",
      "                               name  english  Random House\n",
      "          Angels & Demons      code        0            34\n",
      "                               name  english  Pocket Books\n",
      "          La fortaleza digital code       84            43\n",
      "                               name  spanish       Umbriel\n"
     ]
    }
   ],
   "source": [
    "filename = 'books_brown.csv'\n",
    "books_brown = pd.read_csv(filename, index_col=0)\n",
    "\n",
    "print(books_brown)\n",
    "print()\n",
    "\n",
    "# Reshape books_brown from wide to long format, using the columns author and title as unique indexes. Name 'code' the new column created from the columns starting with language and publisher. Don't forget to examine the printed output.\n",
    "# Reshape using author and title as index, code as new name and getting the prefix language and publisher\n",
    "# (df, stubnames, i, j, sep='', suffix='\\\\d+')[source]\n",
    "# Inside the wide_to_long() call, specify an underscore as the separator between the variable names in the wide columns. Don't forget to examine the printed output.\n",
    "# Specify underscore as the character that separates the variable names\n",
    "# Inside the wide_to_long() call, specify that the wide column names end in a word.\n",
    "\n",
    "the_code_long = pd.wide_to_long(books_brown, \n",
    "                                stubnames=['language', 'publisher'], \n",
    "                                i=['author', 'title'], \n",
    "                                j='code', \n",
    "                                sep='_',\n",
    "                                suffix='\\\\w+')\n",
    "\n",
    "# Print the_code_long\n",
    "print(the_code_long)"
   ]
  },
  {
   "cell_type": "markdown",
   "id": "20eb71a4",
   "metadata": {},
   "source": [
    "##### Time to read, Katniss!\n",
    "It's almost time to finish working for the day. But first, you would like to do an analysis for fun. You will analyze another book dataset, this time with the Hunger Games series.\n",
    "\n",
    "You explored the dataset books_hunger before reshaping it, but something was not right. The index of the DataFrame contains the title of the books. You know that you cannot reshape it in this format. If you do, you will lose valuable data, the title, so you'll need to make some changes before transforming the DataFrame.\n",
    "\n",
    "The books_hunger dataset is available for you. It contains the title, and data about language, publication date, publication number, and page number of each book."
   ]
  },
  {
   "cell_type": "code",
   "execution_count": 23,
   "id": "ce6d6a98",
   "metadata": {},
   "outputs": [
    {
     "name": "stdout",
     "output_type": "stream",
     "text": [
      "                       language publication date  publication number  \\\n",
      "title                                                                  \n",
      "Los Juegos del Hambre   Spanish        5/25/2010                   2   \n",
      "Catching Fire           English        5/25/2012                   6   \n",
      "Il canto della rivolta  Italian         6/8/2015                   4   \n",
      "\n",
      "                        page number  \n",
      "title                                \n",
      "Los Juegos del Hambre           374  \n",
      "Catching Fire                   391  \n",
      "Il canto della rivolta          390  \n",
      "\n"
     ]
    }
   ],
   "source": [
    "filename = 'books_hunger.csv'\n",
    "books_hunger = pd.read_csv(filename, index_col=0)\n",
    "\n",
    "print(books_hunger)\n",
    "print()"
   ]
  },
  {
   "cell_type": "code",
   "execution_count": 24,
   "id": "0f44cc79",
   "metadata": {},
   "outputs": [
    {
     "name": "stdout",
     "output_type": "stream",
     "text": [
      "                    title language publication date  publication number  \\\n",
      "0   Los Juegos del Hambre  Spanish        5/25/2010                   2   \n",
      "1           Catching Fire  English        5/25/2012                   6   \n",
      "2  Il canto della rivolta  Italian         6/8/2015                   4   \n",
      "\n",
      "   page number  \n",
      "0          374  \n",
      "1          391  \n",
      "2          390  \n",
      "\n",
      "                                        publication   page\n",
      "title                  language feature                   \n",
      "Los Juegos del Hambre  Spanish  date      5/25/2010    NaN\n",
      "                                number            2  374.0\n",
      "Catching Fire          English  date      5/25/2012    NaN\n",
      "                                number            6  391.0\n",
      "Il canto della rivolta Italian  date       6/8/2015    NaN\n",
      "                                number            4  390.0\n"
     ]
    }
   ],
   "source": [
    "# Modify books_hunger by resetting the index without dropping it\n",
    "books_hunger.reset_index(drop=False, inplace=True)\n",
    "\n",
    "print(books_hunger)\n",
    "print()\n",
    "\n",
    "# Reshape using title and language as index, feature as new name, publication and page as prefix separated by space and ending in a word\n",
    "publication_features = pd.wide_to_long(\n",
    "                                books_hunger, \n",
    "                                stubnames=['publication', 'page'], \n",
    "                                i=['title', 'language'], \n",
    "                                j='feature', \n",
    "                                sep=' ',\n",
    "                                suffix='\\\\w+')\n",
    "\n",
    "# Print publication_features\n",
    "print(publication_features)"
   ]
  },
  {
   "cell_type": "markdown",
   "id": "0e88cc31",
   "metadata": {},
   "source": [
    "##### Did you say dystopia?\n",
    "Another day at work, another day working with your book project! You are very excited because you have been making a lot of progress. You plan to work on a dataset about dystopian fiction books.\n",
    "\n",
    "But first, you need to do some string manipulations. You realize that the DataFrame index contains data about the title and the release year. You can't find a column with the author of the book, so you decide to pre-define a list of the writers. Then, you want to delete the year and replace it with the author.\n",
    "\n",
    "You decide that splitting the index and then concatenating it with the list is the best way to do it.\n",
    "\n",
    "The books_dys dataset and author_list are available for you. Make sure to examine it in the console!"
   ]
  },
  {
   "cell_type": "code",
   "execution_count": 32,
   "id": "88db3f28",
   "metadata": {},
   "outputs": [
    {
     "name": "stdout",
     "output_type": "stream",
     "text": [
      "                      year  num_pages  average_rating  ratings_count\n",
      "title                                                               \n",
      "Fahrenheit 451-1953   1953        186            4.10          23244\n",
      "1984-1949             1949        268            4.31          14353\n",
      "Brave New World-1932  1932        123            4.30          23535\n",
      "\n",
      "                         year  num_pages  average_rating  ratings_count\n",
      "title                                                                  \n",
      "[Fahrenheit 451, 1953]   1953        186            4.10          23244\n",
      "[1984, 1949]             1949        268            4.31          14353\n",
      "[Brave New World, 1932]  1932        123            4.30          23535\n",
      "\n",
      "                 year  num_pages  average_rating  ratings_count\n",
      "title                                                          \n",
      "Fahrenheit 451   1953        186            4.10          23244\n",
      "1984             1949        268            4.31          14353\n",
      "Brave New World  1932        123            4.30          23535\n",
      "\n",
      "                               year  num_pages  average_rating  ratings_count\n",
      "title                                                                        \n",
      "Fahrenheit 451-Ray Bradbury    1953        186            4.10          23244\n",
      "1984-George Orwell             1949        268            4.31          14353\n",
      "Brave New World-Aldous Huxley  1932        123            4.30          23535\n"
     ]
    }
   ],
   "source": [
    "filename = 'books_dys.csv'\n",
    "books_dys = pd.read_csv(filename, index_col=0)\n",
    "print(books_dys)\n",
    "print()\n",
    "\n",
    "# Split the string separated by a hyphen contained in the index of books_dys. Assign it to the index\n",
    "# Split the index of books_dys by the hyphen \n",
    "books_dys.index = books_dys.index.str.split(\"-\")\n",
    "\n",
    "# Print books_dys\n",
    "print(books_dys)\n",
    "print()\n",
    "\n",
    "books_dys = pd.read_csv(filename, index_col=0)\n",
    "\n",
    "# Get the first element after splitting the index of books_dys\n",
    "books_dys.index = books_dys.index.str.split(\"-\").str.get(0)\n",
    "\n",
    "# Print books_dys\n",
    "print(books_dys)\n",
    "print()\n",
    "\n",
    "author_list = ['Ray Bradbury', 'George Orwell', 'Aldous Huxley']\n",
    "\n",
    "# Concatenate the index with the list author_list separated by a hyphen\n",
    "books_dys.index = books_dys.index.str.cat(author_list, sep=\"-\")\n",
    "\n",
    "# Print books_dys\n",
    "print(books_dys)"
   ]
  },
  {
   "cell_type": "markdown",
   "id": "46be6e0e",
   "metadata": {},
   "source": [
    "##### What's your rating, Harry?\n",
    "You fix yourself a coffee and keep working on your book project. For your next task, you need to get an appropriate dataset containing ratings for all the Harry Potter books. You gathered data from Goodreads as well as from Amazon.\n",
    "\n",
    "You realized that you need a long format, but the dataset hp_books is in a wide format. You want to melt the data, but first, you need to manipulate some of the string columns.\n",
    "\n",
    "The full title is divided into two columns. The authors column contains info about the writer and the illustrator.\n",
    "\n",
    "Ratings for the Harry Potter books are in the DataFrame hp_books. Make sure to examine it in the console!"
   ]
  },
  {
   "cell_type": "code",
   "execution_count": 49,
   "id": "7743cc57",
   "metadata": {},
   "outputs": [
    {
     "name": "stdout",
     "output_type": "stream",
     "text": [
      "          title                  subtitle                     authors  \\\n",
      "0  Harry Potter     the Half-Blood Prince  J.K. Rowling/Mary GrandPré   \n",
      "1  Harry Potter  the Order of the Phoenix  J.K. Rowling/Mary GrandPré   \n",
      "2  Harry Potter    the Chamber of Secrets                J.K. Rowling   \n",
      "3  Harry Potter   the Prisoner of Azkaban  J.K. Rowling/Mary GrandPré   \n",
      "4  Harry Potter       The Deathly Hallows  J.K. Rowling/Mary GrandPré   \n",
      "5  Harry Potter      the Sorcerer's Stone  J.K. Rowling/Mary GrandPré   \n",
      "6  Harry Potter        the Goblet of Fire                J.K. Rowling   \n",
      "\n",
      "   goodreads  amazon  \n",
      "0       4.57    4.52  \n",
      "1       4.49    4.44  \n",
      "2       4.42    4.37  \n",
      "3       4.56    4.51  \n",
      "4       4.42    4.37  \n",
      "5       4.47    4.42  \n",
      "6       4.56    4.51  \n",
      "\n"
     ]
    }
   ],
   "source": [
    "filename = 'hp_books.csv'\n",
    "hp_books = pd.read_csv(filename, index_col=0)\n",
    "print(hp_books)\n",
    "print()\n",
    "\n",
    "# Concatenate the title and subtitle separated by \"and\" surrounded by spaces\n",
    "hp_books['full_title'] = hp_books['title'].str.cat(hp_books['subtitle'], sep =\" and \") "
   ]
  },
  {
   "cell_type": "code",
   "execution_count": 50,
   "id": "c4a4851a",
   "metadata": {},
   "outputs": [
    {
     "name": "stdout",
     "output_type": "stream",
     "text": [
      "          title                  subtitle                     authors  \\\n",
      "0  Harry Potter     the Half-Blood Prince  J.K. Rowling/Mary GrandPré   \n",
      "1  Harry Potter  the Order of the Phoenix  J.K. Rowling/Mary GrandPré   \n",
      "2  Harry Potter    the Chamber of Secrets                J.K. Rowling   \n",
      "3  Harry Potter   the Prisoner of Azkaban  J.K. Rowling/Mary GrandPré   \n",
      "4  Harry Potter       The Deathly Hallows  J.K. Rowling/Mary GrandPré   \n",
      "5  Harry Potter      the Sorcerer's Stone  J.K. Rowling/Mary GrandPré   \n",
      "6  Harry Potter        the Goblet of Fire                J.K. Rowling   \n",
      "\n",
      "   goodreads  amazon                                 full_title        writer  \\\n",
      "0       4.57    4.52     Harry Potter and the Half-Blood Prince  J.K. Rowling   \n",
      "1       4.49    4.44  Harry Potter and the Order of the Phoenix  J.K. Rowling   \n",
      "2       4.42    4.37    Harry Potter and the Chamber of Secrets  J.K. Rowling   \n",
      "3       4.56    4.51   Harry Potter and the Prisoner of Azkaban  J.K. Rowling   \n",
      "4       4.42    4.37       Harry Potter and The Deathly Hallows  J.K. Rowling   \n",
      "5       4.47    4.42      Harry Potter and the Sorcerer's Stone  J.K. Rowling   \n",
      "6       4.56    4.51        Harry Potter and the Goblet of Fire  J.K. Rowling   \n",
      "\n",
      "     illustrator  \n",
      "0  Mary GrandPré  \n",
      "1  Mary GrandPré  \n",
      "2           None  \n",
      "3  Mary GrandPré  \n",
      "4  Mary GrandPré  \n",
      "5  Mary GrandPré  \n",
      "6           None  \n"
     ]
    }
   ],
   "source": [
    "# Split the authors into writer and illustrator columns\n",
    "hp_books[['writer', 'illustrator']] = hp_books['authors'] .str.split(\"/\", expand=True) \n",
    "print(hp_books)"
   ]
  },
  {
   "cell_type": "code",
   "execution_count": 52,
   "id": "6d12c09e",
   "metadata": {},
   "outputs": [
    {
     "name": "stdout",
     "output_type": "stream",
     "text": [
      "                                   full_title        writer     source  rating\n",
      "0      Harry Potter and the Half-Blood Prince  J.K. Rowling  goodreads    4.57\n",
      "1   Harry Potter and the Order of the Phoenix  J.K. Rowling  goodreads    4.49\n",
      "2     Harry Potter and the Chamber of Secrets  J.K. Rowling  goodreads    4.42\n",
      "3    Harry Potter and the Prisoner of Azkaban  J.K. Rowling  goodreads    4.56\n",
      "4        Harry Potter and The Deathly Hallows  J.K. Rowling  goodreads    4.42\n",
      "5       Harry Potter and the Sorcerer's Stone  J.K. Rowling  goodreads    4.47\n",
      "6         Harry Potter and the Goblet of Fire  J.K. Rowling  goodreads    4.56\n",
      "7      Harry Potter and the Half-Blood Prince  J.K. Rowling     amazon    4.52\n",
      "8   Harry Potter and the Order of the Phoenix  J.K. Rowling     amazon    4.44\n",
      "9     Harry Potter and the Chamber of Secrets  J.K. Rowling     amazon    4.37\n",
      "10   Harry Potter and the Prisoner of Azkaban  J.K. Rowling     amazon    4.51\n",
      "11       Harry Potter and The Deathly Hallows  J.K. Rowling     amazon    4.37\n",
      "12      Harry Potter and the Sorcerer's Stone  J.K. Rowling     amazon    4.42\n",
      "13        Harry Potter and the Goblet of Fire  J.K. Rowling     amazon    4.51\n"
     ]
    }
   ],
   "source": [
    "# Define a DataFrame hp_melt by melting the goodreads and amazon columns into a single column named source. Assign the name rating to the resulting value column. Use only the full title and the writer as identifier variables.\n",
    "# Melt goodreads and amazon columns into a single column\n",
    "hp_melt = hp_books.melt(id_vars=['full_title', 'writer'], \n",
    "                        var_name='source', \n",
    "                        value_vars=['goodreads','amazon'],\n",
    "                        value_name='rating')\n",
    "\n",
    "# Print hp_melt\n",
    "print(hp_melt)"
   ]
  },
  {
   "cell_type": "markdown",
   "id": "002c594b",
   "metadata": {},
   "source": [
    "##### Elementary, dear Watson!\n",
    "It's Friday, and you are about to finish working on your book project. For your last task, you will analyze data about Arthur Conan Doyle's books.\n",
    "\n",
    "You realize your dataset, books_sh, needs reshaping. You notice there are columns that can be grouped using a prefix. You identify the columns to use as unique IDs. However, some of these columns contain strings. They need some manipulation before applying a wide to long transformation. You decide some of the strings need splitting to make the DataFrame cleaner.\n",
    "\n",
    "The books_sh dataset is available for you. It contains the title, and data about version, number_pages, and number_ratings of each book."
   ]
  },
  {
   "cell_type": "code",
   "execution_count": 55,
   "id": "26185a00",
   "metadata": {},
   "outputs": [
    {
     "name": "stdout",
     "output_type": "stream",
     "text": [
      "                               main_title version  number_pages  \\\n",
      "0    Sherlock Holmes: The Complete Novels   Vol I          1059   \n",
      "1    Sherlock Holmes: The Complete Novels  Vol II           709   \n",
      "2  Adventures of Sherlock Holmes: Memoirs   Vol I           334   \n",
      "3  Adventures of Sherlock Holmes: Memoirs  Vol II           238   \n",
      "\n",
      "   number_ratings  \n",
      "0           24087  \n",
      "1           26794  \n",
      "2            2184  \n",
      "3            1884  \n",
      "\n",
      "                               main_title version  number_pages  \\\n",
      "0    Sherlock Holmes: The Complete Novels   Vol I          1059   \n",
      "1    Sherlock Holmes: The Complete Novels  Vol II           709   \n",
      "2  Adventures of Sherlock Holmes: Memoirs   Vol I           334   \n",
      "3  Adventures of Sherlock Holmes: Memoirs  Vol II           238   \n",
      "\n",
      "   number_ratings                          title              subtitle volume  \n",
      "0           24087                Sherlock Holmes   The Complete Novels      I  \n",
      "1           26794                Sherlock Holmes   The Complete Novels     II  \n",
      "2            2184  Adventures of Sherlock Holmes               Memoirs      I  \n",
      "3            1884  Adventures of Sherlock Holmes               Memoirs     II  \n"
     ]
    }
   ],
   "source": [
    "filename = 'books_sh.csv'\n",
    "books_sh = pd.read_csv(filename, index_col=0)\n",
    "print(books_sh)\n",
    "print()\n",
    "\n",
    "# Split main_title by a colon and assign it to two columns named title and subtitle \n",
    "books_sh[['title', 'subtitle']] = books_sh['main_title'].str.split(':', expand=True)\n",
    "\n",
    "# Split version by a space and assign the second element to the column named volume \n",
    "books_sh['volume'] = books_sh['version'].str.split(' ').str.get(1)\n",
    "\n",
    "# Print books_sh\n",
    "print(books_sh)"
   ]
  },
  {
   "cell_type": "code",
   "execution_count": 56,
   "id": "8e0641d3",
   "metadata": {},
   "outputs": [
    {
     "name": "stdout",
     "output_type": "stream",
     "text": [
      "   number_pages  number_ratings                          title  \\\n",
      "0          1059           24087                Sherlock Holmes   \n",
      "1           709           26794                Sherlock Holmes   \n",
      "2           334            2184  Adventures of Sherlock Holmes   \n",
      "3           238            1884  Adventures of Sherlock Holmes   \n",
      "\n",
      "               subtitle volume  \n",
      "0   The Complete Novels      I  \n",
      "1   The Complete Novels     II  \n",
      "2               Memoirs      I  \n",
      "3               Memoirs     II  \n"
     ]
    }
   ],
   "source": [
    "# Drop the main_title and version columns modifying books_sh\n",
    "books_sh.drop(['main_title', 'version'], axis=1, inplace=True)\n",
    "\n",
    "# Print books_sh\n",
    "print(books_sh)"
   ]
  },
  {
   "cell_type": "code",
   "execution_count": 57,
   "id": "25577fab",
   "metadata": {},
   "outputs": [
    {
     "name": "stdout",
     "output_type": "stream",
     "text": [
      "                                                                   number\n",
      "title                         subtitle             volume feature        \n",
      "Sherlock Holmes                The Complete Novels I      pages      1059\n",
      "                                                          ratings   24087\n",
      "                                                   II     pages       709\n",
      "                                                          ratings   26794\n",
      "Adventures of Sherlock Holmes  Memoirs             I      pages       334\n",
      "                                                          ratings    2184\n",
      "                                                   II     pages       238\n",
      "                                                          ratings    1884\n"
     ]
    }
   ],
   "source": [
    "# Reshape using title, subtitle and volume as index, name feature the new variable from columns starting with number, separated by undescore and ending in words \n",
    "sh_long = pd.wide_to_long(books_sh, stubnames='number', i=['title', 'subtitle', 'volume'], j='feature', sep=\"_\", suffix='\\\\w+')\n",
    "\n",
    "# Print sh_long \n",
    "print(sh_long)"
   ]
  },
  {
   "cell_type": "code",
   "execution_count": null,
   "id": "0edec71c",
   "metadata": {},
   "outputs": [],
   "source": []
  }
 ],
 "metadata": {
  "kernelspec": {
   "display_name": "Python 3 (ipykernel)",
   "language": "python",
   "name": "python3"
  },
  "language_info": {
   "codemirror_mode": {
    "name": "ipython",
    "version": 3
   },
   "file_extension": ".py",
   "mimetype": "text/x-python",
   "name": "python",
   "nbconvert_exporter": "python",
   "pygments_lexer": "ipython3",
   "version": "3.10.4"
  }
 },
 "nbformat": 4,
 "nbformat_minor": 5
}
