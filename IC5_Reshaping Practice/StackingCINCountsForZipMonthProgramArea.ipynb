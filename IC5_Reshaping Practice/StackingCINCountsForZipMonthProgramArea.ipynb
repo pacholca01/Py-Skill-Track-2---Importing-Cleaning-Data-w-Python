{
 "cells": [
  {
   "cell_type": "code",
   "execution_count": 11,
   "id": "e39cfefe",
   "metadata": {
    "scrolled": true
   },
   "outputs": [
    {
     "name": "stdout",
     "output_type": "stream",
     "text": [
      "                                 January  February    March    April      May  \\\n",
      "Program Digit Zip_Code_Addr_CAD                                                 \n",
      "F             14215              14989.0   14973.0  14992.0  15099.0  14949.0   \n",
      "              14211              10558.0   10650.0  10705.0  10718.0  10533.0   \n",
      "              14207              10236.0   10164.0  10147.0  10102.0   9965.0   \n",
      "M             14215               7264.0    7374.0   7466.0   7527.0   7558.0   \n",
      "F             14213               7709.0    7768.0   7797.0   7873.0   7792.0   \n",
      "\n",
      "                                    June     July   August  September  \\\n",
      "Program Digit Zip_Code_Addr_CAD                                         \n",
      "F             14215              14905.0  14832.0  14731.0    14916.0   \n",
      "              14211              10432.0  10483.0  10406.0    10478.0   \n",
      "              14207               9824.0   9813.0   9766.0     9745.0   \n",
      "M             14215               7615.0   7699.0   7732.0     7807.0   \n",
      "F             14213               7722.0   7630.0   7582.0     7570.0   \n",
      "\n",
      "                                 October  November  December  \n",
      "Program Digit Zip_Code_Addr_CAD                               \n",
      "F             14215              14964.0   14970.0   14803.0  \n",
      "              14211              10565.0   10616.0   10470.0  \n",
      "              14207               9825.0    9879.0    9747.0  \n",
      "M             14215               7870.0    7845.0    7884.0  \n",
      "F             14213               7630.0    7683.0    7681.0  \n"
     ]
    }
   ],
   "source": [
    "import pandas as pd\n",
    "\n",
    "filename = 'HHCompData_v1.2.csv'\n",
    "Data = pd.read_csv(filename, sep='\\t', index_col=(0,1))\n",
    "\n",
    "print(Data.head())"
   ]
  },
  {
   "cell_type": "code",
   "execution_count": 14,
   "id": "7261856d",
   "metadata": {},
   "outputs": [
    {
     "name": "stdout",
     "output_type": "stream",
     "text": [
      "Program Digit  Zip_Code_Addr_CAD           \n",
      "F              14215              January      14989.0\n",
      "                                  February     14973.0\n",
      "                                  March        14992.0\n",
      "                                  April        15099.0\n",
      "                                  May          14949.0\n",
      "                                  June         14905.0\n",
      "                                  July         14832.0\n",
      "                                  August       14731.0\n",
      "                                  September    14916.0\n",
      "                                  October      14964.0\n",
      "                                  November     14970.0\n",
      "                                  December     14803.0\n",
      "               14211              January      10558.0\n",
      "                                  February     10650.0\n",
      "                                  March        10705.0\n",
      "                                  April        10718.0\n",
      "                                  May          10533.0\n",
      "                                  June         10432.0\n",
      "                                  July         10483.0\n",
      "                                  August       10406.0\n",
      "dtype: float64\n"
     ]
    }
   ],
   "source": [
    "Data_stack = Data.stack()\n",
    "\n",
    "print(Data_stack.head(20))"
   ]
  },
  {
   "cell_type": "code",
   "execution_count": 20,
   "id": "bb42bd5e",
   "metadata": {},
   "outputs": [
    {
     "name": "stdout",
     "output_type": "stream",
     "text": [
      "(13671,)\n"
     ]
    }
   ],
   "source": [
    "print(Data_stack.shape)"
   ]
  },
  {
   "cell_type": "code",
   "execution_count": 17,
   "id": "cbb99d73",
   "metadata": {
    "scrolled": true
   },
   "outputs": [],
   "source": [
    "Data_stack.to_csv('HHCompData_v1.3_Stacked.csv')"
   ]
  },
  {
   "cell_type": "code",
   "execution_count": null,
   "id": "7eef77ed",
   "metadata": {},
   "outputs": [],
   "source": []
  }
 ],
 "metadata": {
  "kernelspec": {
   "display_name": "Python 3 (ipykernel)",
   "language": "python",
   "name": "python3"
  },
  "language_info": {
   "codemirror_mode": {
    "name": "ipython",
    "version": 3
   },
   "file_extension": ".py",
   "mimetype": "text/x-python",
   "name": "python",
   "nbconvert_exporter": "python",
   "pygments_lexer": "ipython3",
   "version": "3.10.4"
  }
 },
 "nbformat": 4,
 "nbformat_minor": 5
}
