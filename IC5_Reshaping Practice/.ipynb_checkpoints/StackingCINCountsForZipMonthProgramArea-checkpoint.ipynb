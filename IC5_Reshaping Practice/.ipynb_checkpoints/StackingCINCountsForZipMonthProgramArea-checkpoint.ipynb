{
 "cells": [
  {
   "cell_type": "code",
   "execution_count": 5,
   "id": "7b13b85f",
   "metadata": {},
   "outputs": [
    {
     "name": "stdout",
     "output_type": "stream",
     "text": [
      "Empty DataFrame\n",
      "Columns: []\n",
      "Index: [F\t14215\t14989\t14973\t14992\t15099\t14949\t14905\t14832\t14731\t14916\t14964\t14970\t14803, F\t14211\t10558\t10650\t10705\t10718\t10533\t10432\t10483\t10406\t10478\t10565\t10616\t10470, F\t14207\t10236\t10164\t10147\t10102\t9965\t9824\t9813\t9766\t9745\t9825\t9879\t9747, M\t14215\t7264\t7374\t7466\t7527\t7558\t7615\t7699\t7732\t7807\t7870\t7845\t7884, F\t14213\t7709\t7768\t7797\t7873\t7792\t7722\t7630\t7582\t7570\t7630\t7683\t7681]\n"
     ]
    }
   ],
   "source": [
    "import pandas as pd\n",
    "\n",
    "filename = 'HHCompData_v1.2.csv'\n",
    "Data = pd.read_csv(filename, index_col=0)\n",
    "\n",
    "\n"
   ]
  },
  {
   "cell_type": "code",
   "execution_count": null,
   "id": "2d5f8395",
   "metadata": {},
   "outputs": [],
   "source": []
  }
 ],
 "metadata": {
  "kernelspec": {
   "display_name": "Python 3 (ipykernel)",
   "language": "python",
   "name": "python3"
  },
  "language_info": {
   "codemirror_mode": {
    "name": "ipython",
    "version": 3
   },
   "file_extension": ".py",
   "mimetype": "text/x-python",
   "name": "python",
   "nbconvert_exporter": "python",
   "pygments_lexer": "ipython3",
   "version": "3.10.4"
  }
 },
 "nbformat": 4,
 "nbformat_minor": 5
}
